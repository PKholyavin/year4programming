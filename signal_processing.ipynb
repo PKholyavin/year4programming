{
 "cells": [
  {
   "cell_type": "markdown",
   "metadata": {},
   "source": [
    "В обработке сигналов может пригодиться библиотека `scipy`. По ссылке можно ознакомиться с документацией и со списком модулей, входящих в библиотеку:  \n",
    "https://docs.scipy.org/doc/scipy/tutorial/index.html#user-guide"
   ]
  },
  {
   "cell_type": "markdown",
   "metadata": {},
   "source": [
    "Модуль `scipy.fft` содержит функции, относящиеся к преобразованию Фурье. Нарисуем спектр Фурье для суммы двух синусоид (пример из документации `scipy`). Нам понадобится собственно функция `fft`, которая вычисляет быстрое преобразование Фурье для дискретного сигнала, и функция `fftfreq`, которая возвращает значения частоты (в Герцах), которые мы будем откладывать по оси X на спектрограмме."
   ]
  },
  {
   "cell_type": "code",
   "execution_count": 11,
   "metadata": {},
   "outputs": [],
   "source": [
    "from scipy.fft import fft, fftfreq\n",
    "import numpy as np\n",
    "\n",
    "# Количество отсчётов в сигнале\n",
    "N = 600\n",
    "\n",
    "# Период дискретизации (в секундах)\n",
    "T = 1.0 / 800.0\n",
    "\n",
    "# Заведём массив временных точек (N отсчётов с промежутком T)\n",
    "x = np.linspace(0.0, N*T, N, endpoint=False)\n",
    "# Построим наш сигнал как сумму двух синусоид с частотами 50 и 80 Гц\n",
    "y = np.sin(50.0 * 2.0*np.pi*x) + 0.5*np.sin(80.0 * 2.0*np.pi*x)"
   ]
  },
  {
   "cell_type": "markdown",
   "metadata": {},
   "source": [
    "Посмотрим отдельно на полученные массивы:"
   ]
  },
  {
   "cell_type": "code",
   "execution_count": null,
   "metadata": {},
   "outputs": [],
   "source": [
    "# это значения времени каждого отсчёта сигнала\n",
    "print(x[:20])"
   ]
  },
  {
   "cell_type": "code",
   "execution_count": null,
   "metadata": {},
   "outputs": [],
   "source": [
    "# это значения амплитуды каждого отсчёта сигнала\n",
    "print(y[:20])"
   ]
  },
  {
   "cell_type": "markdown",
   "metadata": {},
   "source": [
    "Нарисуем наш сигнал на графике:"
   ]
  },
  {
   "cell_type": "code",
   "execution_count": null,
   "metadata": {},
   "outputs": [],
   "source": [
    "import matplotlib.pyplot as plt\n",
    "plt.plot(x, y)\n",
    "plt.xlabel(\"Time, s\")\n",
    "plt.ylabel(\"Amplitude\")\n",
    "plt.show()"
   ]
  },
  {
   "cell_type": "markdown",
   "metadata": {},
   "source": [
    "Займёмся вычислением спектра:"
   ]
  },
  {
   "cell_type": "code",
   "execution_count": null,
   "metadata": {},
   "outputs": [],
   "source": [
    "# Вычислим преобразование Фурье\n",
    "yf = fft(y)\n",
    "# Получим список частот (в Гц)\n",
    "xf = fftfreq(N, T)[:N//2]"
   ]
  },
  {
   "cell_type": "markdown",
   "metadata": {},
   "source": [
    "Посмотрим, что получилось:"
   ]
  },
  {
   "cell_type": "code",
   "execution_count": null,
   "metadata": {},
   "outputs": [],
   "source": [
    "# Это то, что мы будем откладывать по оси X на спектре (значения частот):\n",
    "print(xf[:20])"
   ]
  },
  {
   "cell_type": "code",
   "execution_count": null,
   "metadata": {},
   "outputs": [],
   "source": [
    "# А это значения спектра в каждой частоте:\n",
    "print(yf[:20])"
   ]
  },
  {
   "cell_type": "markdown",
   "metadata": {},
   "source": [
    "Вместо `fft` и `fftfreq` можно воспользоваться `rfft` и `rfftfreq`, тогда не надо будет брать половинки от массивов:"
   ]
  },
  {
   "cell_type": "code",
   "execution_count": 12,
   "metadata": {},
   "outputs": [],
   "source": [
    "from scipy.fft import rfft, rfftfreq\n",
    "# Вычислим преобразование Фурье\n",
    "yf_r = rfft(y)\n",
    "# Получим список частот (в Гц)\n",
    "xf_r = rfftfreq(N, T)"
   ]
  },
  {
   "cell_type": "markdown",
   "metadata": {},
   "source": [
    "Обратите внимание, что значения спектра &ndash; это комплексные числа!"
   ]
  },
  {
   "cell_type": "markdown",
   "metadata": {},
   "source": [
    "Нарисуем спектр на графике:"
   ]
  },
  {
   "cell_type": "code",
   "execution_count": null,
   "metadata": {},
   "outputs": [],
   "source": [
    "# Возьмём модуль от нашего спектра, чтобы получить вещественные числа\n",
    "plt.plot(xf_r, 2.0/N * np.abs(yf_r))\n",
    "plt.xlabel(\"Frequency, Hz\")\n",
    "plt.ylabel(\"Amplitude\")\n",
    "plt.grid()\n",
    "plt.show()"
   ]
  },
  {
   "cell_type": "markdown",
   "metadata": {},
   "source": [
    "Чтобы краевые эффекты не вносили искажения в спектр, полезно умножить значения в сигнале на какую-нибудь оконную функцию. Для этого в модуле `scipy.signal` есть пространство имён `windows` и функция `get_window`. Со списком окон можно ознакомиться в документации:  \n",
    "https://docs.scipy.org/doc/scipy/reference/generated/scipy.signal.get_window.html\n",
    "\n",
    "Например, получим окно Ханна под наш сигнал:"
   ]
  },
  {
   "cell_type": "code",
   "execution_count": null,
   "metadata": {},
   "outputs": [],
   "source": [
    "from scipy import signal\n",
    "hann_window = signal.get_window(\"hann\", N)\n",
    "plt.plot(x, hann_window)\n",
    "plt.xlabel(\"Time, s\")\n",
    "plt.ylabel(\"Amplitude\")\n",
    "plt.show()"
   ]
  },
  {
   "cell_type": "markdown",
   "metadata": {},
   "source": [
    "Мы можем просто умножить сигнал на окно:"
   ]
  },
  {
   "cell_type": "code",
   "execution_count": null,
   "metadata": {},
   "outputs": [],
   "source": [
    "y_windowed = y * hann_window\n",
    "plt.plot(x, y_windowed)\n",
    "plt.xlabel(\"Time, s\")\n",
    "plt.ylabel(\"Amplitude\")\n",
    "plt.show()"
   ]
  },
  {
   "cell_type": "markdown",
   "metadata": {},
   "source": [
    "Заново вычислим преобразование Фурье:"
   ]
  },
  {
   "cell_type": "code",
   "execution_count": null,
   "metadata": {},
   "outputs": [],
   "source": [
    "yf_windowed = rfft(y_windowed)\n",
    "plt.plot(xf_r, 2.0/N * np.abs(yf_windowed))\n",
    "plt.xlabel(\"Frequency, Hz\")\n",
    "plt.ylabel(\"Amplitude\")\n",
    "plt.grid()\n",
    "plt.show()"
   ]
  },
  {
   "cell_type": "markdown",
   "metadata": {},
   "source": [
    "**Задание для выполнения в классе**: прочитайте файл cta0001.wav с помощью `scipy.io.wavfile` и нарисуйте на графике спектр Фурье фрагмента сигнала, который начинается с 200 мс и длится 30 мс. Используйте любую оконную функцию."
   ]
  },
  {
   "cell_type": "code",
   "execution_count": null,
   "metadata": {},
   "outputs": [],
   "source": [
    "!wget https://pkholyavin.github.io/mastersprogramming/cta0001.wav"
   ]
  },
  {
   "cell_type": "code",
   "execution_count": null,
   "metadata": {},
   "outputs": [],
   "source": []
  },
  {
   "cell_type": "markdown",
   "metadata": {},
   "source": [
    "Обработка сигнала окнами (фреймами)\n",
    "\n",
    "При обработке сигнала часто используют т.н. оконный метод: некоторый признак вычисляют на небольшом фрагменте сигнала, на котором мы считаем его условно постоянным. Мы делим сигнал длиной N<sub>total</sub> на K таких фрагментов, причём каждый фрагмент (фрейм) накладывается на своих соседей. Основные параметры:\n",
    "\n",
    "N - длина окна (в отсчётах)  \n",
    "S - шаг (в отсчётах)  \n",
    "\n",
    "**Вопрос:** как вычислить количество окон, на которые можно разделить сигнал?"
   ]
  },
  {
   "cell_type": "markdown",
   "metadata": {},
   "source": [
    "<details>\n",
    "<summary>Ответ</summary>\n",
    "\n",
    "$$K = 1 + \\left \\lfloor{\\frac{N_{total} - N}{S}}\\right \\rfloor$$\n",
    "\n",
    "</details>\n"
   ]
  },
  {
   "cell_type": "markdown",
   "metadata": {},
   "source": [
    "**Вопрос 2:** а что делать, если сигнал не делится на целое количество окон?"
   ]
  },
  {
   "cell_type": "markdown",
   "metadata": {},
   "source": [
    "<details>\n",
    "<summary>Ответ</summary>\n",
    "\n",
    "1. Отрезать лишнее\n",
    "2. Добавить нулевых отсчётов до целого\n",
    "\n",
    "</details>"
   ]
  },
  {
   "cell_type": "markdown",
   "metadata": {},
   "source": [
    "**Вопрос 3:** если мы задали длину окна в миллисекундах, как понять, сколько в нём будет отсчётов?"
   ]
  },
  {
   "cell_type": "markdown",
   "metadata": {},
   "source": [
    "<details>\n",
    "<summary>Ответ</summary>\n",
    "\n",
    "$$N_{samples} = round(\\frac{N_{ms} \\cdot {F_{s}}}{1000})$$\n",
    "\n",
    "</details>\n"
   ]
  },
  {
   "cell_type": "markdown",
   "metadata": {},
   "source": [
    "**Задание для выполнения в классе**: обработайте сигнал сta0001.wav окнами по 30 мс с шагом 10 мс, на каждом окне вычислите максимум амплитуды. Постройте график."
   ]
  },
  {
   "cell_type": "code",
   "execution_count": null,
   "metadata": {},
   "outputs": [],
   "source": []
  },
  {
   "cell_type": "markdown",
   "metadata": {},
   "source": [
    "**Домашнее задание:**\n",
    "\n",
    "Напишите программу, которая считывает файл .wav и строит динамическую спектрограмму. Для этого:\n",
    "1. Нормализуйте сигнал (поделите на максимум для int16)\n",
    "2. Задайте двумерный массив (матрицу), в которой будет столько же столбцов, сколько окон в сигнале, и столько же строк, сколько отсчётов в вашем спектре (т.е. N // 2)\n",
    "3. Обработайте сигнал окнами (задайте длину окна и шаг)\n",
    "4. Постройте power spectrum (спектр Фурье, возведённый в квадрат) каждого окна\n",
    "5. Заполните массив полученными спектрами\n",
    "6. Используйте функцию imshow для визуализации"
   ]
  },
  {
   "cell_type": "code",
   "execution_count": null,
   "metadata": {},
   "outputs": [],
   "source": [
    "import random\n",
    "x = 100\n",
    "y = 200\n",
    "heatmap = np.asarray([[random.randint(0, 10) * i * j for i in range(x)] for j in range(y)])\n",
    "plt.imshow(heatmap)"
   ]
  }
 ],
 "metadata": {
  "kernelspec": {
   "display_name": "Python 3",
   "language": "python",
   "name": "python3"
  },
  "language_info": {
   "codemirror_mode": {
    "name": "ipython",
    "version": 3
   },
   "file_extension": ".py",
   "mimetype": "text/x-python",
   "name": "python",
   "nbconvert_exporter": "python",
   "pygments_lexer": "ipython3",
   "version": "3.9.0"
  }
 },
 "nbformat": 4,
 "nbformat_minor": 2
}
