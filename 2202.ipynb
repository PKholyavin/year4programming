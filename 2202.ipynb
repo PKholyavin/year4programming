{
  "cells": [
    {
      "cell_type": "markdown",
      "metadata": {
        "id": "unl-IwH3qGX1"
      },
      "source": [
        "Токенизация: деление на т.н. \"токены\" &ndash; какие-либо значимые элементы:\n",
        "\n",
        "1. Предложения\n",
        "2. Слова\n",
        "3. Морфемы\n",
        "4. Графемы\n",
        "5. ..."
      ]
    },
    {
      "cell_type": "markdown",
      "metadata": {
        "id": "PJhTlvoXrQ39"
      },
      "source": [
        "По каким признакам можно делить на предложения? Какие могут быть проблемы?"
      ]
    },
    {
      "cell_type": "code",
      "execution_count": null,
      "metadata": {
        "id": "It-ImWclqDId"
      },
      "outputs": [],
      "source": [
        "import nltk\n",
        "nltk.download('punkt_tab')"
      ]
    },
    {
      "cell_type": "code",
      "execution_count": null,
      "metadata": {
        "id": "dMfuwUlUqW4z"
      },
      "outputs": [],
      "source": [
        "text = 'Был тихий серый вечер. \"Кто это?\", спросил мальчик, заглядывая на следующую страницу.'\n",
        "\n",
        "sentences = nltk.tokenize.sent_tokenize(text, \"russian\")\n",
        "print(sentences)"
      ]
    },
    {
      "cell_type": "markdown",
      "metadata": {},
      "source": [
        "https://aclanthology.org/J06-4003.pdf"
      ]
    },
    {
      "cell_type": "markdown",
      "metadata": {
        "id": "bHryDM8zrYg7"
      },
      "source": [
        "Какие могут возникнуть проблемы при делении на слова?"
      ]
    },
    {
      "cell_type": "code",
      "execution_count": null,
      "metadata": {
        "id": "WcppdB7sq2WM"
      },
      "outputs": [],
      "source": [
        "for sent in sentences:\n",
        "    print(nltk.tokenize.word_tokenize(sent, \"russian\"))"
      ]
    },
    {
      "cell_type": "markdown",
      "metadata": {},
      "source": [
        "https://github.com/nltk/nltk/blob/develop/nltk/tokenize/destructive.py"
      ]
    },
    {
      "attachments": {},
      "cell_type": "markdown",
      "metadata": {
        "id": "sWwHisaFrelk"
      },
      "source": [
        "Задание:\n",
        "\n",
        "1. Взять любой текст (например, новостной или скачать с wikisource или lib.ru)\n",
        "\n",
        "**Задание для выполнения в классе:**\n",
        "\n",
        "2. С помощью nltk разбить текст на предложения, каждое предложение разбить на слова.\n",
        "3. Построить словари слов: алфавитный список, частотный список.\n",
        "\n",
        "**Домашнее задание:**\n",
        "\n",
        "2. Самостоятельно реализовать алгоритм токенизации на предложения и слова.\n",
        "3. Построить словари слов: алфавитный список, частотный список.\n",
        "4. Найти слова, которые встретились по одному разу, выявить в них ошибки токенизации, предложить пути их исправления."
      ]
    },
    {
      "cell_type": "markdown",
      "metadata": {},
      "source": [
        "**Дополнительное задание:** токенизация на графемы.\n",
        "\n",
        "Даны два текста на русском языке в транскрипции с разными обозначениями.\n",
        "\n",
        "* https://pkholyavin.github.io/year4programming/sibling_sample.txt\n",
        "* https://pkholyavin.github.io/year4programming/corpres_sample.txt\n",
        "\n",
        "Для каждого текста внимательно изучить принятые обозначения и написать программу, которая каждую строчку превращает в список звуков. "
      ]
    },
    {
      "cell_type": "code",
      "execution_count": null,
      "metadata": {},
      "outputs": [],
      "source": [
        "!wget -q https://pkholyavin.github.io/year4programming/sibling_sample.txt\n",
        "!wget -q https://pkholyavin.github.io/year4programming/corpres_sample.txt"
      ]
    }
  ],
  "metadata": {
    "colab": {
      "provenance": []
    },
    "kernelspec": {
      "display_name": "Python 3",
      "name": "python3"
    },
    "language_info": {
      "codemirror_mode": {
        "name": "ipython",
        "version": 3
      },
      "file_extension": ".py",
      "mimetype": "text/x-python",
      "name": "python",
      "nbconvert_exporter": "python",
      "pygments_lexer": "ipython3",
      "version": "3.13.1"
    }
  },
  "nbformat": 4,
  "nbformat_minor": 0
}
