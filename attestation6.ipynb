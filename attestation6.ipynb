{
  "nbformat": 4,
  "nbformat_minor": 0,
  "metadata": {
    "colab": {
      "provenance": []
    },
    "kernelspec": {
      "name": "python3",
      "display_name": "Python 3"
    },
    "language_info": {
      "name": "python"
    }
  },
  "cells": [
    {
      "cell_type": "markdown",
      "source": [
        "Обучить на текстах конференции триграммную модель. С помощью неё генерировать новые тексты. Алгоритм следующий:\n",
        "1. Используйте функцию random.choices() для выбора следующего слова в соответствии с вероятностями из модели. Для этого нужно использовать аргумент weights.\n",
        "2. Чтобы сгенерировать предложение, сначала выбираем одну из всех триграмм с началом (&lt;s&gt;, &lt;s&gt;). Допустим, выбралась триграмма (&lt;s&gt;, &lt;s&gt;, w1).\n",
        "3. Следующим шагом выбираем одну из всех триграмм с началом (&lt;s&gt;, w1). Допустим, выбралась триграмма (&lt;s&gt;, w1, w2).\n",
        "4. Повторяем, пока не попадётся триграмма с концом &lt;/s&gt; или пока не превысится заранее заданная длина предложения."
      ],
      "metadata": {
        "id": "Hc-rDAnJxmR9"
      }
    },
    {
      "cell_type": "code",
      "source": [
        "import random\n",
        "from collections import Counter\n",
        "words = [\"конь\", \"стул\", \"двадцать\", \"восемь\"]\n",
        "weights = [0.4, 0.2, 0.1, 0.3]\n",
        "choice_hist = []\n",
        "for _ in range(1000):\n",
        "    choice_hist.extend(random.choices(words, weights=weights, k=1))\n",
        "ctr = Counter(choice_hist)\n",
        "print(ctr)"
      ],
      "metadata": {
        "colab": {
          "base_uri": "https://localhost:8080/"
        },
        "id": "1rW9MbTSy24v",
        "outputId": "43fcb4bb-d3b8-4d76-a463-79bdd4997fb7"
      },
      "execution_count": 5,
      "outputs": [
        {
          "output_type": "stream",
          "name": "stdout",
          "text": [
            "Counter({'конь': 419, 'восемь': 270, 'стул': 212, 'двадцать': 99})\n"
          ]
        }
      ]
    }
  ]
}