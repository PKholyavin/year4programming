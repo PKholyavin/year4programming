{
 "cells": [
  {
   "cell_type": "markdown",
   "metadata": {},
   "source": [
    "**1. Фильтрация**\n",
    "\n",
    "Модуль scipy.signal содержит функции, позволяющие создавать фильтры для сигналов."
   ]
  },
  {
   "cell_type": "markdown",
   "metadata": {},
   "source": [
    "<img src=\"https://pkholyavin.github.io/mastersprogramming/filters.png\" width=\"1000\">"
   ]
  },
  {
   "cell_type": "markdown",
   "metadata": {},
   "source": [
    "Зададим сигнал как сумму трёх синусоид:"
   ]
  },
  {
   "cell_type": "code",
   "execution_count": 1,
   "metadata": {},
   "outputs": [],
   "source": [
    "import numpy as np\n",
    "\n",
    "# Количество отсчётов в сигнале\n",
    "N = 600\n",
    "\n",
    "# Период дискретизации (в секундах)\n",
    "T = 1.0 / 800.0\n",
    "\n",
    "# Заведём массив временных точек (N отсчётов с промежутком T)\n",
    "x = np.linspace(0.0, N*T, N, endpoint=False)\n",
    "# Построим наш сигнал как сумму трёх синусоид с частотами 50, 80 и 150 Гц\n",
    "y = np.sin(50.0 * 2.0*np.pi*x) + 0.8*np.sin(80.0 * 2.0*np.pi*x) + 0.5*np.sin(150.0 * 2.0*np.pi*x)"
   ]
  },
  {
   "cell_type": "code",
   "execution_count": null,
   "metadata": {},
   "outputs": [],
   "source": [
    "from scipy.fft import rfft, rfftfreq\n",
    "import matplotlib.pyplot as plt\n",
    "# Вычислим преобразование Фурье\n",
    "yf_r = rfft(y)\n",
    "# Получим список частот (в Гц)\n",
    "xf_r = rfftfreq(N, T)\n",
    "plt.plot(xf_r, 2.0/N * np.abs(yf_r))\n",
    "plt.xlabel(\"Frequency, Hz\")\n",
    "plt.ylabel(\"Amplitude\")\n",
    "plt.grid()\n",
    "plt.show()"
   ]
  },
  {
   "cell_type": "markdown",
   "metadata": {},
   "source": [
    "Создадим фильтр:\n",
    "https://docs.scipy.org/doc/scipy/reference/generated/scipy.signal.butter.html"
   ]
  },
  {
   "cell_type": "markdown",
   "metadata": {},
   "source": [
    "`butter(N, Wn, btype='low', analog=False, output='ba', fs=None)`"
   ]
  },
  {
   "cell_type": "code",
   "execution_count": null,
   "metadata": {},
   "outputs": [],
   "source": [
    "from scipy.signal import butter, lfilter\n",
    "\n",
    "low_pass_filter = butter(4, 100, btype=\"lowpass\", fs=1/T)\n",
    "print(low_pass_filter) # коэффициенты многочленов в числителе и знаменателе\n",
    "y_filtered = lfilter(*low_pass_filter, y)"
   ]
  },
  {
   "cell_type": "code",
   "execution_count": null,
   "metadata": {},
   "outputs": [],
   "source": [
    "yf_filtered = rfft(y_filtered)\n",
    "plt.plot(xf_r, 2.0/N * np.abs(yf_filtered))\n",
    "plt.xlabel(\"Frequency, Hz\")\n",
    "plt.ylabel(\"Amplitude\")\n",
    "plt.grid()\n",
    "plt.show()"
   ]
  },
  {
   "cell_type": "markdown",
   "metadata": {},
   "source": [
    "Попробуем поменять порядок фильтра (аргумент `N` в функции `butter`)"
   ]
  },
  {
   "cell_type": "markdown",
   "metadata": {},
   "source": [
    "**Задание для выполнения в классе:**\n",
    "1. Прочитайте звук из cta0001.wav, создайте high-pass фильтр с пороговой частотой 300 Гц, пропустите сигнал через фильтр и запишите результат в новый файл. Получится аналог телефонного сигнала.\n",
    "2. Выведите на экран мгновенный спектр одного и того же фрагмента сигнала до и после фильтрации. Примените оконную функцию."
   ]
  },
  {
   "cell_type": "code",
   "execution_count": null,
   "metadata": {},
   "outputs": [],
   "source": []
  },
  {
   "cell_type": "markdown",
   "metadata": {},
   "source": [
    "**2. Вычисление интенсивности**"
   ]
  },
  {
   "cell_type": "markdown",
   "metadata": {},
   "source": [
    "Интенсивность, как и многие другие признаки, вычисляется оконным методом. Praat предлагает задавать длину окна как 3.2 / (минимальное значение ОТ в сигнале), чтобы избежать отражения периодов ОТ в контуре амплитуды."
   ]
  },
  {
   "cell_type": "markdown",
   "metadata": {},
   "source": [
    "Интенсивность обычно выражается в децибелах."
   ]
  },
  {
   "cell_type": "markdown",
   "metadata": {},
   "source": [
    "<details><summary>Формула:</summary>\n",
    "\n",
    "$$ dB(x) = 10 \\cdot log_{10}(\\frac{x}{10^{-4}}), x > 10^{-30} $$\n",
    "\n",
    "$$ dB(x) = -300, x \\leq 10^{-30} $$\n",
    "\n",
    "</details>"
   ]
  },
  {
   "cell_type": "markdown",
   "metadata": {},
   "source": [
    "Формула для значения интенсивности в окне:\n",
    "\n",
    "$$I = dB \\left(\\frac{\\sum_{t = 0}^{N} S_t^2 \\cdot W_t}{\\sum_{t = 0}^{N} W_t}\\right)$$\n",
    "\n",
    "S<sub>t</sub> &ndash; t-e значение сигнала,  \n",
    "W<sub>t</sub> &ndash; t-e значение оконной функции (можно попробовать разные)"
   ]
  },
  {
   "cell_type": "markdown",
   "metadata": {},
   "source": [
    "Формула рассчитана на нормализованный сигнал (т.е. такой, в котором значения амплитуды лежат от -1 до 1)"
   ]
  },
  {
   "cell_type": "markdown",
   "metadata": {},
   "source": [
    "**Задание для выполнения в классе:** напишите функцию, которая принимает на вход:\n",
    "* numpy-массив с сигналом\n",
    "* размер окна\n",
    "* шаг окна\n",
    "\n",
    "и возвращает:\n",
    "* numpy-массив с контуром интенсивности\n",
    "\n",
    "Проверьте функцию на файле cta0001.wav, выведите график на экран"
   ]
  },
  {
   "cell_type": "code",
   "execution_count": null,
   "metadata": {},
   "outputs": [],
   "source": []
  },
  {
   "cell_type": "markdown",
   "metadata": {},
   "source": [
    "**Домашнее задание:** напишите программу, которая извлекает из сигнала все звуки (по меткам .seg_B1) и склеивает их в порядке убывания средней интенсивности. Проверьте на файлах cta0001.wav и cta0003.wav"
   ]
  }
 ],
 "metadata": {
  "kernelspec": {
   "display_name": "Python 3",
   "language": "python",
   "name": "python3"
  },
  "language_info": {
   "codemirror_mode": {
    "name": "ipython",
    "version": 3
   },
   "file_extension": ".py",
   "mimetype": "text/x-python",
   "name": "python",
   "nbconvert_exporter": "python",
   "pygments_lexer": "ipython3",
   "version": "3.9.0"
  }
 },
 "nbformat": 4,
 "nbformat_minor": 2
}
