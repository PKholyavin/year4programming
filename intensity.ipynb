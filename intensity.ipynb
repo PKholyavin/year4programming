{
 "cells": [
  {
   "cell_type": "markdown",
   "metadata": {},
   "source": [
    "**Вычисление интенсивности**"
   ]
  },
  {
   "cell_type": "markdown",
   "metadata": {},
   "source": [
    "Интенсивность, как и многие другие признаки, вычисляется оконным методом. Praat предлагает задавать длину окна как 3.2 / (минимальное значение ОТ в сигнале), чтобы избежать отражения периодов ОТ в контуре амплитуды."
   ]
  },
  {
   "cell_type": "markdown",
   "metadata": {},
   "source": [
    "Интенсивность обычно выражается в децибелах."
   ]
  },
  {
   "cell_type": "markdown",
   "metadata": {},
   "source": [
    "Формула для значения интенсивности в окне (в Па<sup>2</sup>):\n",
    "\n",
    "$$I = \\frac{\\sum_{t = 0}^{N} S_t^2 \\cdot W_t}{\\sum_{t = 0}^{N} W_t}$$\n",
    "\n",
    "S<sub>t</sub> &ndash; t-e значение сигнала,  \n",
    "W<sub>t</sub> &ndash; t-e значение оконной функции (можно попробовать разные)\n"
   ]
  },
  {
   "cell_type": "markdown",
   "metadata": {},
   "source": [
    "Формула для перевода в дБ:\n",
    "\n",
    "$$ dB(x) = 10 \\cdot log_{10}(\\frac{x}{ref}) $$"
   ]
  },
  {
   "cell_type": "markdown",
   "metadata": {},
   "source": [
    "<details><summary>Улучшенная формула для перевода в дБ:</summary>\n",
    "\n",
    "\n",
    "$$ dB(x) = 10 \\cdot log_{10}(\\frac{x}{ref}), x > ref \\cdot 10^{\\frac{cutoff}{10}} $$\n",
    "\n",
    "$$ dB(x) = cutoff, x \\leq ref \\cdot 10^{\\frac{cutoff}{10}} $$\n",
    "\n",
    "$$I_{dB} = dB(I), ref = I_{threshold}, cutoff = -300$$\n",
    "\n",
    "Слуховой порог (условно):\n",
    "\n",
    "$$I_{threshold} = (2 \\cdot 10 ^ {-5})^2$$\n",
    "</details>"
   ]
  },
  {
   "cell_type": "markdown",
   "metadata": {},
   "source": [
    "Формула рассчитана на нормализованный сигнал (т.е. такой, в котором значения амплитуды лежат от -1 до 1)"
   ]
  },
  {
   "cell_type": "markdown",
   "metadata": {},
   "source": [
    "**Задание для выполнения в классе:**\n",
    "1. Напишите функцию для перевода из абсолютных величин в децибелы. Функция должна принимать на вход три аргумента: значение для конвертации, опорное значение, пороговое значение в дБ. Нарисуйте график."
   ]
  },
  {
   "cell_type": "code",
   "execution_count": null,
   "metadata": {},
   "outputs": [],
   "source": []
  },
  {
   "cell_type": "markdown",
   "metadata": {},
   "source": [
    "2. Напишите функцию, которая вычисляет интенсивность в подаваемом на вход небольшом фрагменте сигнала (т.е. возвращает число)"
   ]
  },
  {
   "cell_type": "code",
   "execution_count": null,
   "metadata": {},
   "outputs": [],
   "source": []
  },
  {
   "cell_type": "markdown",
   "metadata": {},
   "source": [
    "3. Напишите функцию, которая принимает на вход:\n",
    "* numpy-массив с сигналом\n",
    "* размер окна\n",
    "* шаг окна\n",
    "* другие необходимые аргументы (где можно, задайте значения по умолчанию)\n",
    "\n",
    "и возвращает:\n",
    "* numpy-массив с контуром интенсивности\n",
    "\n",
    "Проверьте функцию на файле cta0001.wav, выведите график на экран"
   ]
  },
  {
   "cell_type": "code",
   "execution_count": null,
   "metadata": {},
   "outputs": [],
   "source": []
  },
  {
   "cell_type": "markdown",
   "metadata": {},
   "source": [
    "**Домашнее задание:** напишите программу, которая извлекает из сигнала все звуки (по меткам .seg_B1) и склеивает их в порядке убывания средней интенсивности. Создайте параллельные файлы .seg_B1. Проверьте на файлах cta0001.wav и cta0003.wav. "
   ]
  }
 ],
 "metadata": {
  "kernelspec": {
   "display_name": "Python 3",
   "language": "python",
   "name": "python3"
  },
  "language_info": {
   "codemirror_mode": {
    "name": "ipython",
    "version": 3
   },
   "file_extension": ".py",
   "mimetype": "text/x-python",
   "name": "python",
   "nbconvert_exporter": "python",
   "pygments_lexer": "ipython3",
   "version": "3.9.0"
  }
 },
 "nbformat": 4,
 "nbformat_minor": 2
}
