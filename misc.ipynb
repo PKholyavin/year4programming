{
 "cells": [
  {
   "cell_type": "markdown",
   "metadata": {},
   "source": [
    "1. Задание для выполнения в классе:\n",
    "\n",
    "Проверить выполнение закона Ципфа для русских букв и русских фонем. Используем корпус CORPRES (cta_seg.zip). Построим соответствующие графики.\n",
    "\n",
    "https://en.wikipedia.org/wiki/Zipf%27s_law"
   ]
  },
  {
   "cell_type": "markdown",
   "metadata": {},
   "source": [
    "2. Задание для выполнения в классе:\n",
    "\n",
    "Рассчитать энтропию для русских фонем по алгоритму:\n",
    "https://www.princeton.edu/~wbialek/rome/refs/shannon_51.pdf\n",
    "\n",
    "Построить график."
   ]
  }
 ],
 "metadata": {
  "language_info": {
   "name": "python"
  }
 },
 "nbformat": 4,
 "nbformat_minor": 2
}
