{
 "cells": [
  {
   "cell_type": "markdown",
   "metadata": {},
   "source": [
    "1. Задание для выполнения в классе:\n",
    "\n",
    "Проверить выполнение закона Ципфа для русских букв, фонем и слогов. Используем корпус CORPRES (cta_seg.zip). Построим соответствующие графики.\n",
    "\n",
    "https://en.wikipedia.org/wiki/Zipf%27s_law"
   ]
  },
  {
   "cell_type": "markdown",
   "metadata": {},
   "source": [
    "2. Задание для выполнения в классе:\n",
    "\n",
    "Воспользуйтесь данными с сайта phoible.org и постройте дендрограмму (https://docs.scipy.org/doc/scipy/reference/generated/scipy.cluster.hierarchy.dendrogram.html), показывающую близость некоторого количества языков с точки зрения их фонемного состава. В качестве меры близости возьмите расстояние Левенштейна."
   ]
  }
 ],
 "metadata": {
  "language_info": {
   "name": "python"
  }
 },
 "nbformat": 4,
 "nbformat_minor": 2
}
