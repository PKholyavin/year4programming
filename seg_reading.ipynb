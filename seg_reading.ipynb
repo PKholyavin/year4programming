{
 "cells": [
  {
   "attachments": {},
   "cell_type": "markdown",
   "metadata": {},
   "source": [
    "Чтение файлов .seg"
   ]
  },
  {
   "cell_type": "code",
   "execution_count": null,
   "metadata": {},
   "outputs": [],
   "source": [
    "with open(\"cta0001.seg_B2\", \"r\", encoding=\"utf-8-sig\") as f:\n",
    "    lines = f.readlines()\n",
    "\n",
    "for i, line in enumerate(lines):\n",
    "    print(f\"{i}\\t{line.strip()}\")"
   ]
  },
  {
   "attachments": {},
   "cell_type": "markdown",
   "metadata": {},
   "source": [
    "Соответствие уровней:"
   ]
  },
  {
   "cell_type": "code",
   "execution_count": null,
   "metadata": {},
   "outputs": [],
   "source": [
    "from itertools import product\n",
    "letters = \"GBRY\"\n",
    "nums = \"1234\"\n",
    "levels = [ch + num for num, ch in product(nums, letters)]\n",
    "print(levels)\n",
    "level_codes = [2 ** i for i in range(len(levels))]\n",
    "print(level_codes)"
   ]
  },
  {
   "attachments": {},
   "cell_type": "markdown",
   "metadata": {},
   "source": [
    "Хак для определения кодировки:"
   ]
  },
  {
   "cell_type": "code",
   "execution_count": 11,
   "metadata": {},
   "outputs": [],
   "source": [
    "def detect_encoding(file_path):\n",
    "    encoding = \"utf-8\"\n",
    "    try:\n",
    "        l = open(file_path, 'r', encoding=\"utf-8\").read()\n",
    "        if l.startswith(\"\\ufeff\"):\n",
    "            encoding = \"utf-8-sig\"\n",
    "    except UnicodeDecodeError:\n",
    "        try:\n",
    "            open(file_path, 'r', encoding=\"utf-16\").read()\n",
    "            encoding = \"utf-16\"\n",
    "        except UnicodeError:\n",
    "            encoding = \"cp1251\"\n",
    "    return encoding"
   ]
  },
  {
   "attachments": {},
   "cell_type": "markdown",
   "metadata": {},
   "source": [
    "Задание: написать программу для чтения и записи файлов .seg. Использовать её для:\n",
    "1. Изменения одноканального файла в двухканальный\n",
    "2. Разделения меток разных уровней по разным файлам\n",
    "3. Разделения файла .wav по меткам"
   ]
  }
 ],
 "metadata": {
  "kernelspec": {
   "display_name": "Python 3",
   "language": "python",
   "name": "python3"
  },
  "language_info": {
   "codemirror_mode": {
    "name": "ipython",
    "version": 3
   },
   "file_extension": ".py",
   "mimetype": "text/x-python",
   "name": "python",
   "nbconvert_exporter": "python",
   "pygments_lexer": "ipython3",
   "version": "3.9.0"
  },
  "orig_nbformat": 4
 },
 "nbformat": 4,
 "nbformat_minor": 2
}
