{
 "cells": [
  {
   "cell_type": "markdown",
   "metadata": {},
   "source": [
    "Концепция word2vec: каждому слову сопоставляется вектор вещественных чисел. Чем больше косинусная близость между двумя векторами (т.е. косинус угла между ними), тем ближе эти слова друг к другу по значению. Такие модели обучаются на больших корпусах текстов."
   ]
  },
  {
   "cell_type": "markdown",
   "metadata": {},
   "source": [
    "https://rusvectores.org/ru/models/"
   ]
  },
  {
   "cell_type": "markdown",
   "metadata": {},
   "source": [
    "Задание для самостоятельного выполнения в классе (чтобы не скучать): напишите функцию, которая вычисляет косинусную близость между двумя векторами (списками) по формуле:\n",
    "\n",
    "$$cos(\\theta) = \\frac{A \\cdot B}{\\lVert A \\rVert \\lVert B \\rVert} = \\frac{\\sum_{i=1}^{n}{A_{i} B_{i}}}{\\sqrt{\\sum_{i=1}^{n}{A_{i}^{2}}}\\sqrt{\\sum_{i=1}^{n}{B_{i}^{2}}}}$$\n",
    "\n",
    "Используйте только встроенные функции!"
   ]
  },
  {
   "cell_type": "code",
   "execution_count": 5,
   "metadata": {},
   "outputs": [],
   "source": [
    "def cossim(a: list[float], b: list[float]) -> float:\n",
    "    pass"
   ]
  },
  {
   "cell_type": "code",
   "execution_count": 17,
   "metadata": {},
   "outputs": [],
   "source": [
    "a = [1, 0, 0]\n",
    "b = [0, 1, 0]"
   ]
  },
  {
   "cell_type": "code",
   "execution_count": null,
   "metadata": {},
   "outputs": [],
   "source": []
  },
  {
   "cell_type": "markdown",
   "metadata": {},
   "source": [
    "То же самое в numpy и scipy:"
   ]
  },
  {
   "cell_type": "code",
   "execution_count": null,
   "metadata": {},
   "outputs": [],
   "source": [
    "from numpy import dot\n",
    "from numpy.linalg import norm\n",
    "\n",
    "cos_sim = dot(a, b)/(norm(a)*norm(b))\n",
    "print(cos_sim)"
   ]
  },
  {
   "cell_type": "code",
   "execution_count": null,
   "metadata": {},
   "outputs": [],
   "source": [
    "from scipy.spatial.distance import cosine\n",
    "\n",
    "cos_sim = 1 - cosine(a, b)\n",
    "print(cos_sim)"
   ]
  },
  {
   "cell_type": "code",
   "execution_count": null,
   "metadata": {},
   "outputs": [],
   "source": [
    "!wget http://vectors.nlpl.eu/repository/20/220.zip\n",
    "!unzip 220.zip"
   ]
  },
  {
   "cell_type": "markdown",
   "metadata": {},
   "source": [
    "Библиотека gensim:"
   ]
  },
  {
   "cell_type": "code",
   "execution_count": null,
   "metadata": {},
   "outputs": [],
   "source": [
    "from gensim.models import KeyedVectors"
   ]
  },
  {
   "cell_type": "markdown",
   "metadata": {},
   "source": [
    "https://radimrehurek.com/gensim/models/keyedvectors.html"
   ]
  },
  {
   "cell_type": "code",
   "execution_count": null,
   "metadata": {},
   "outputs": [],
   "source": [
    "model = KeyedVectors.load_word2vec_format(\"model.bin\", binary=True)"
   ]
  },
  {
   "cell_type": "code",
   "execution_count": null,
   "metadata": {},
   "outputs": [],
   "source": [
    "model.most_similar(\"фонетика_NOUN\")"
   ]
  },
  {
   "cell_type": "markdown",
   "metadata": {},
   "source": [
    "Для поиска по коллекции документов можно использовать и этот способ векторного представления: представим каждый текст как среднее значение векторов для входящих в него слов: https://radimrehurek.com/gensim/models/keyedvectors.html#gensim.models.keyedvectors.KeyedVectors.get_mean_vector"
   ]
  },
  {
   "cell_type": "code",
   "execution_count": null,
   "metadata": {},
   "outputs": [],
   "source": [
    "sentence = [\"фонетика_NOUN\"]\n",
    "sentence_embedding = model.get_mean_vector(sentence, ignore_missing=True)"
   ]
  },
  {
   "cell_type": "markdown",
   "metadata": {},
   "source": [
    "Задание для совместного выполнения (чтобы не скучать): давайте обучим свою модель на тезисах студенческой конференции. Для этого:\n",
    "1. Каждый текст разобьём на предложения\n",
    "2. Каждое предложение разобьём на слова\n",
    "3. Каждое слово приведём к нормальной форме и к нижнему регистру\n",
    "4. Создадим большой список всех предложений\n",
    "5. Обучим модель:"
   ]
  },
  {
   "cell_type": "code",
   "execution_count": null,
   "metadata": {},
   "outputs": [],
   "source": [
    "!wget pkholyavin.github.io/year4programming/conference_stud_clean.pkl"
   ]
  },
  {
   "cell_type": "code",
   "execution_count": null,
   "metadata": {},
   "outputs": [],
   "source": [
    "from gensim.models import Word2Vec"
   ]
  },
  {
   "cell_type": "code",
   "execution_count": null,
   "metadata": {},
   "outputs": [],
   "source": [
    "corpus = []\n",
    "model_conf = Word2Vec(sentences=corpus, vector_size=100, window=5, min_count=1, workers=4)"
   ]
  },
  {
   "cell_type": "markdown",
   "metadata": {},
   "source": [
    "Наши вектора хранятся в атрибуте wv:"
   ]
  },
  {
   "cell_type": "code",
   "execution_count": null,
   "metadata": {},
   "outputs": [],
   "source": [
    "model_conf.wv.most_similar(\"фонетика\")"
   ]
  },
  {
   "cell_type": "markdown",
   "metadata": {},
   "source": [
    "Задание на дом:\n",
    "\n",
    "Создайте систему поиска по текстам, которая по функционалу аналогична предыдущей, но в качестве функции ранжирования использует косинусную близость между вектором текста и вектором запроса:\n",
    "\n",
    "https://radimrehurek.com/gensim/models/keyedvectors.html#gensim.models.keyedvectors.KeyedVectors.n_similarity"
   ]
  },
  {
   "cell_type": "code",
   "execution_count": null,
   "metadata": {},
   "outputs": [],
   "source": [
    "model_conf.wv.n_similarity([\"фонетика\"], [\"фонетика\", \"и\", \"фонология\"])"
   ]
  },
  {
   "cell_type": "markdown",
   "metadata": {},
   "source": [
    "Используйте модель с сайта rusvectores. Обратите внимание, что у каждого слова есть частеречный тег, при этом части речи отличаются от тех, которые даёт pymorphy2:\n",
    "\n",
    "https://pymorphy2.readthedocs.io/en/stable/user/grammemes.html\n",
    "\n",
    "https://universaldependencies.org/u/pos/all.html"
   ]
  },
  {
   "cell_type": "code",
   "execution_count": null,
   "metadata": {},
   "outputs": [],
   "source": [
    "set(w.split(\"_\")[-1] for w in model.key_to_index)"
   ]
  },
  {
   "cell_type": "markdown",
   "metadata": {},
   "source": [
    "Таким образом, вам нужно:\n",
    "1. Для каждого слова в текстах и в поисковом запросе определить частеречную принадлежность (это легко сделать вместе с лемматизацией)\n",
    "2. Определить, какой тег нужно присвоить слову"
   ]
  },
  {
   "cell_type": "markdown",
   "metadata": {},
   "source": [
    "Замечание: если мы будем использовать `n_similarity`, то тогда вектор каждого текста будет вычисляться заново при каждом новом поиске. Кажется, это неоптимально; поэтому хорошей оптимизацией будет:\n",
    "1) вычислить вектора текстов заранее с помощью `get_mean_vector`\n",
    "2) вычислить вектор запроса с помощью этого же метода\n",
    "2) считать косинусную близость вручную с помощью numpy или scipy."
   ]
  }
 ],
 "metadata": {
  "kernelspec": {
   "display_name": "Python 3",
   "language": "python",
   "name": "python3"
  },
  "language_info": {
   "codemirror_mode": {
    "name": "ipython",
    "version": 3
   },
   "file_extension": ".py",
   "mimetype": "text/x-python",
   "name": "python",
   "nbconvert_exporter": "python",
   "pygments_lexer": "ipython3",
   "version": "3.9.0"
  }
 },
 "nbformat": 4,
 "nbformat_minor": 2
}
