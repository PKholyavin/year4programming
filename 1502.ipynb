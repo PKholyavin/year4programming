{
  "nbformat": 4,
  "nbformat_minor": 0,
  "metadata": {
    "colab": {
      "provenance": []
    },
    "kernelspec": {
      "name": "python3",
      "display_name": "Python 3"
    },
    "language_info": {
      "name": "python"
    }
  },
  "cells": [
    {
      "cell_type": "markdown",
      "source": [
        "Рисование простых графиков:"
      ],
      "metadata": {
        "id": "Lpi2kx5KVqDp"
      }
    },
    {
      "cell_type": "code",
      "execution_count": null,
      "metadata": {
        "id": "ceIoHiaJVnj_"
      },
      "outputs": [],
      "source": [
        "import matplotlib.pyplot as plt"
      ]
    },
    {
      "cell_type": "code",
      "source": [
        "x = [1, 2, 3, 4, 5]\n",
        "y = [6, 7, 8, 9, 10]\n",
        "\n",
        "plt.plot(x, y)\n",
        "plt.show()"
      ],
      "metadata": {
        "id": "QlLxKliAV0x7"
      },
      "execution_count": null,
      "outputs": []
    },
    {
      "cell_type": "markdown",
      "source": [
        "Изменяем дизайн графика:"
      ],
      "metadata": {
        "id": "lQir_dSLWIcb"
      }
    },
    {
      "cell_type": "code",
      "source": [
        "plt.plot(x, y, \"g^\")\n",
        "plt.show()"
      ],
      "metadata": {
        "id": "5J-CMw5HWIKT"
      },
      "execution_count": null,
      "outputs": []
    },
    {
      "cell_type": "code",
      "source": [
        "plt.plot(x, y, linewidth=5)\n",
        "plt.show()"
      ],
      "metadata": {
        "id": "_syqvSt7Xn0r"
      },
      "execution_count": null,
      "outputs": []
    },
    {
      "cell_type": "markdown",
      "source": [
        "Подписи к осям:"
      ],
      "metadata": {
        "id": "8ShD1d3nWo-r"
      }
    },
    {
      "cell_type": "code",
      "source": [
        "plt.plot(x, y)\n",
        "plt.title(\"Data\")\n",
        "plt.xlabel(\"X axis\")\n",
        "plt.ylabel(\"Y axis\")\n",
        "plt.show()"
      ],
      "metadata": {
        "id": "_NM9beSXWptz"
      },
      "execution_count": null,
      "outputs": []
    },
    {
      "cell_type": "markdown",
      "source": [
        "Легенда:"
      ],
      "metadata": {
        "id": "ySB8hxePW53q"
      }
    },
    {
      "cell_type": "code",
      "source": [
        "plt.plot(x, y, label=\"data 1\")\n",
        "plt.plot(y, x, label=\"data 2\")\n",
        "plt.legend()\n",
        "plt.show()"
      ],
      "metadata": {
        "id": "h54u7UPwW5lj"
      },
      "execution_count": null,
      "outputs": []
    },
    {
      "cell_type": "markdown",
      "source": [
        "Другие типы графиков:"
      ],
      "metadata": {
        "id": "Fhcjw7q4XQCT"
      }
    },
    {
      "cell_type": "code",
      "source": [
        "plt.bar(x, y)\n",
        "plt.show()"
      ],
      "metadata": {
        "id": "W0auy-6UXP27"
      },
      "execution_count": null,
      "outputs": []
    },
    {
      "cell_type": "code",
      "source": [
        "plt.pie(x, labels=y)\n",
        "plt.show()"
      ],
      "metadata": {
        "id": "8dXC2-KgXWHa"
      },
      "execution_count": null,
      "outputs": []
    },
    {
      "cell_type": "markdown",
      "source": [
        "Несколько графиков на одном рисунке:"
      ],
      "metadata": {
        "id": "WqXDVJtaXwEy"
      }
    },
    {
      "cell_type": "code",
      "source": [
        "fig, axes = plt.subplots(2, 2)\n",
        "axes[0, 0].plot(x, y)\n",
        "axes[0, 1].plot(y, x)\n",
        "axes[1, 0].plot(y + x, x + y)\n",
        "axes[1, 1].plot(x + x, y + y)\n",
        "plt.show()"
      ],
      "metadata": {
        "id": "6Y_IlB7vX0QD"
      },
      "execution_count": null,
      "outputs": []
    },
    {
      "cell_type": "markdown",
      "source": [
        "Две разные оси X на одном графике:"
      ],
      "metadata": {
        "id": "jueaCGV7Ya1J"
      }
    },
    {
      "cell_type": "code",
      "source": [
        "fig, ax = plt.subplots()\n",
        "ax_2 = plt.twinx(ax)\n",
        "ax.plot(x, y)\n",
        "ax_2.plot(x, [-10 * i for i in y], color=\"red\")"
      ],
      "metadata": {
        "id": "5tYSrZ1qYbXx"
      },
      "execution_count": null,
      "outputs": []
    },
    {
      "cell_type": "code",
      "source": [
        "plt.savefig(\"plot.png\")"
      ],
      "metadata": {
        "id": "yFCl7RlP4pW2"
      },
      "execution_count": null,
      "outputs": []
    },
    {
      "cell_type": "markdown",
      "source": [
        "Задание: \n",
        "1. Открыть файл d07_s02_maps_tempo.txt, считать из него данные\n",
        "2. Построить график зависимости темпа речи от времени начала реплики (т.е. график, показывающий, как темп диктора менялся в течение диалога)\n",
        "3. Построить график зависимости темпа речи от длительности реплики (верно ли, что более длинные реплики произносятся быстрее?)\n",
        "4. Построить столбчатую или круговую диаграмму распределения реплик по ролям.\n",
        "5. (*) Построить любые другие графики.\n",
        "\n",
        "На всех графиках должны быть подписаны оси (величина, единица измерения) и сделаны легенды. Графики могут быть на одном рисунке или на разных. Графики сохранить в файлы."
      ],
      "metadata": {
        "id": "6j0uR9h4s4F7"
      }
    }
  ]
}