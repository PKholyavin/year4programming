{
 "cells": [
  {
   "cell_type": "markdown",
   "metadata": {},
   "source": [
    "Не для всех объектов Praat в `parselmouth` есть специальные классы. Также не для всех объектов, для которых классы есть, реализованы все необходимые методы. Для таких случаев в `parselmouth` есть специальные функции, которые позволяют выполнять команды Praat напрямую."
   ]
  },
  {
   "cell_type": "code",
   "execution_count": null,
   "metadata": {},
   "outputs": [],
   "source": [
    "!pip install praat-parselmouth\n",
    "!pip install tgt"
   ]
  },
  {
   "cell_type": "code",
   "execution_count": null,
   "metadata": {},
   "outputs": [],
   "source": [
    "!wget https://pkholyavin.github.io/mastersprogramming/av1fpt1.TextGrid"
   ]
  },
  {
   "cell_type": "markdown",
   "metadata": {},
   "source": [
    "Для чтения файлов есть функция `parselmouth.read()`. Она соответствует команде Praat \"Read object from file\". Например, прочитаем .TextGrid:\n",
    "\n",
    "<img src=\"https://pkholyavin.github.io/mastersprogramming/tg_trigraphs.png\" width=\"800\">"
   ]
  },
  {
   "cell_type": "code",
   "execution_count": null,
   "metadata": {},
   "outputs": [],
   "source": [
    "import parselmouth\n",
    "tg = parselmouth.read(\"av1fpt1.TextGrid\")\n",
    "tg"
   ]
  },
  {
   "cell_type": "markdown",
   "metadata": {},
   "source": [
    "Мы получили объект класса TextGrid: https://parselmouth.readthedocs.io/en/stable/api_reference.html#parselmouth.TextGrid\n",
    "\n",
    "Посмотрим, что у него внутри:"
   ]
  },
  {
   "cell_type": "code",
   "execution_count": null,
   "metadata": {},
   "outputs": [],
   "source": [
    "[i for i in dir(tg) if not i.startswith(\"_\")]"
   ]
  },
  {
   "cell_type": "markdown",
   "metadata": {},
   "source": [
    "В частности, обратите внимание, что у класса `TextGrid` есть методы `from_tgt()` и `to_tgt()`, которые позволяют взаимную конвертацию с форматом TextGridTools.\n",
    "\n",
    "**Вопрос**: что выведет следующий код?"
   ]
  },
  {
   "cell_type": "code",
   "execution_count": null,
   "metadata": {},
   "outputs": [],
   "source": [
    "tgt_grid = tg.to_tgt()\n",
    "print(\" \".join([i.text for i in tgt_grid.get_tier_by_name(\"ideal\")]))"
   ]
  },
  {
   "cell_type": "markdown",
   "metadata": {},
   "source": [
    "А если нам нужно сделать что-то, для чего нет специального метода? Используем функцию `parselmouth.praat.call()`. В неё первым аргументом будем передавать объект, над которым хотим совершить операцию, а вторым &ndash; название соответствующей команды Praat.\n",
    "\n",
    "Например, если мы хотим перевести текст разметки из триграфов Praat в символы Unicode, нам нужна команда \"Convert to Unicode\" (обратите внимание, что команда должна быть передана в точности так, как она отображается в Praat; регистр важен!):\n",
    "\n",
    "<img src=\"https://pkholyavin.github.io/mastersprogramming/tg_to_unicode.png\" width=\"500\">"
   ]
  },
  {
   "cell_type": "code",
   "execution_count": null,
   "metadata": {},
   "outputs": [],
   "source": [
    "parselmouth.praat.call(tg, \"Convert to Unicode\")\n",
    "tgt_grid_uni = tg.to_tgt()\n",
    "print(\" \".join([i.text for i in tgt_grid_uni.get_tier_by_name(\"ideal\")]))"
   ]
  },
  {
   "cell_type": "markdown",
   "metadata": {},
   "source": [
    "Сохраним результат:"
   ]
  },
  {
   "cell_type": "code",
   "execution_count": null,
   "metadata": {},
   "outputs": [],
   "source": [
    "tg.save(\"av1fpt1_unicode.TextGrid\")"
   ]
  },
  {
   "cell_type": "markdown",
   "metadata": {},
   "source": [
    "А если для выполнения операции нужно задать какие-то параметры? Тогда будем передавать их как дальнейшие аргументы. Например, если мы хотим извлечь кусок TextGrid, то нам нужна команда \"Extract part\". Она требует три аргумента: время начала, время конца (в секундах) и чекбокс, который определяет, нужно ли сохранять изначальные значения времени. Время начала и конца передадим как числа, а значение чекбокса &ndash; как `True` или `False`.\n",
    "\n",
    "Обратите внимание, что предыдущая команда изменяла объект, над которым проводилась операция. Эта команда генерирует уже новый объект; соответственно, функция `call()` возвращает его, и мы можем присвоить его в какую-то переменную.\n",
    "\n",
    "<img src=\"https://pkholyavin.github.io/mastersprogramming/extract_part.png\" width=\"500\">"
   ]
  },
  {
   "cell_type": "code",
   "execution_count": null,
   "metadata": {},
   "outputs": [],
   "source": [
    "start_time, end_time = 0.0, 1.0  # s\n",
    "pres_times = False\n",
    "new_tg = parselmouth.praat.call(tg, \"Extract part\", start_time, end_time, pres_times)\n",
    "tgt_grid_part = new_tg.to_tgt()\n",
    "print(\" \".join([i.text for i in tgt_grid_part.get_tier_by_name(\"ideal\")]))"
   ]
  },
  {
   "cell_type": "markdown",
   "metadata": {},
   "source": [
    "В документации к функции `call()` можно прочитать, в каком формате необходимо передавать параметры команд: https://parselmouth.readthedocs.io/en/stable/api_reference.html#parselmouth.praat.call"
   ]
  },
  {
   "cell_type": "markdown",
   "metadata": {},
   "source": [
    "**Задание для выполнения в классе**:\n",
    "1. Используя команду \"Insert interval tier\", добавьте в конец нашего TextGrid (на позицию 5) новый уровень. Придумайте для него название.  \n",
    "<img src=\"https://pkholyavin.github.io/mastersprogramming/add_interval_tier.png\" width=\"500\">\n",
    "\n",
    "2. Используя команду \"Insert boundary\", разделите его на пять равных интервалов. Воспользуйтесь атрибутом `xmax` класса `TextGrid`, чтобы найти длину файла.  \n",
    "<img src=\"https://pkholyavin.github.io/mastersprogramming/insert_boundary.png\" width=\"500\">\n",
    "\n",
    "3. Используя команду \"Set interval text\", назовите каждый интервал буквой латинского алфавита от A до E.  \n",
    "<img src=\"https://pkholyavin.github.io/mastersprogramming/set_interval_text.png\" width=\"500\">"
   ]
  },
  {
   "cell_type": "code",
   "execution_count": null,
   "metadata": {},
   "outputs": [],
   "source": []
  },
  {
   "cell_type": "markdown",
   "metadata": {},
   "source": [
    "Функция call() позволяет работать и с командами, которые не работают с существующими объектами, а создают новые. Например, если мы хотим прочитать файл .sbl, нас интересует команда \"Read Sound from raw 16-bit Little Endian file\". При этом функция `call()` вернула нам объект класса `Sound`."
   ]
  },
  {
   "cell_type": "code",
   "execution_count": null,
   "metadata": {},
   "outputs": [],
   "source": [
    "!wget https://pkholyavin.github.io/mastersprogramming/cta0001.sbl"
   ]
  },
  {
   "cell_type": "code",
   "execution_count": 2,
   "metadata": {},
   "outputs": [],
   "source": [
    "sound_sbl = parselmouth.praat.call(\"Read Sound from raw 16-bit Little Endian file\", \"cta0001.sbl\")"
   ]
  },
  {
   "cell_type": "markdown",
   "metadata": {},
   "source": [
    "При этом ЧД по умолчанию задаётся 16 кГц, поэтому восстановим истинное значение с помощью метода `override_sampling_frequency()`."
   ]
  },
  {
   "cell_type": "code",
   "execution_count": 3,
   "metadata": {},
   "outputs": [],
   "source": [
    "sound_sbl.override_sampling_frequency(22050)"
   ]
  },
  {
   "cell_type": "markdown",
   "metadata": {},
   "source": [
    "Ещё одна возможность Praat, для которой не реализована прямая поддержка в `parselmouth`, &ndash; это манипуляция звуком. Если мы выполним команду \"To Manipulation\" на звуке, то получим объект Manipulation, с которым можем потом работать.\n",
    "\n",
    "<img src=\"https://pkholyavin.github.io/mastersprogramming/to_manipulation.png\" width=\"500\">"
   ]
  },
  {
   "cell_type": "code",
   "execution_count": 4,
   "metadata": {},
   "outputs": [],
   "source": [
    "step, min_f0, max_f0 = 0.01, 75, 350  # s, Hz, Hz\n",
    "manip = parselmouth.praat.call(sound_sbl, \"To Manipulation\", step, min_f0, max_f0)"
   ]
  },
  {
   "cell_type": "markdown",
   "metadata": {},
   "source": [
    "Извлечём из объекта Manipulation объект PitchTier и умножим в нём все значения на 1.2. Каждый PitchTier &ndash; это последовательность точек, которые описываются двумя параметрами: время (в секундах) и значение ЧОТ (в герцах).\n",
    "\n",
    "<img src=\"https://pkholyavin.github.io/mastersprogramming/pitch_tier.png\" width=\"800\">"
   ]
  },
  {
   "cell_type": "code",
   "execution_count": 6,
   "metadata": {},
   "outputs": [],
   "source": [
    "pitch_tier = parselmouth.praat.call(manip, \"Extract pitch tier\")\n",
    "factor = 1.2\n",
    "parselmouth.praat.call(pitch_tier, \"Multiply frequencies\", sound_sbl.xmin, sound_sbl.xmax, factor)"
   ]
  },
  {
   "cell_type": "markdown",
   "metadata": {},
   "source": [
    "Теперь воспользуемся командой \"Replace pitch tier\", чтобы наложить наш изменённый PitchTier на объект Manipulation. Обратите внимание, что, поскольку эта команда оперирует сразу двумя объектами, теперь мы передаём первым аргументом *список*, содержащий эти объекты.\n",
    "\n",
    "(Если бы вы делали это вживую, то вы бы выделили оба объекта мышкой вместе)\n",
    "\n",
    "<img src=\"https://pkholyavin.github.io/mastersprogramming/replace_pitch_tier.png\" width=\"500\">"
   ]
  },
  {
   "cell_type": "code",
   "execution_count": 7,
   "metadata": {},
   "outputs": [],
   "source": [
    "parselmouth.praat.call([manip, pitch_tier], \"Replace pitch tier\")"
   ]
  },
  {
   "cell_type": "markdown",
   "metadata": {},
   "source": [
    "Теперь получим из объекта Manipulation новый звук и запишем его в файл:"
   ]
  },
  {
   "cell_type": "code",
   "execution_count": 8,
   "metadata": {},
   "outputs": [],
   "source": [
    "snd_new = parselmouth.praat.call(manip, \"Get resynthesis (overlap-add)\")\n",
    "snd_new.save(\"cta0001_mod.wav\", \"WAV\")"
   ]
  },
  {
   "cell_type": "markdown",
   "metadata": {},
   "source": [
    "Воспользуемся библиотекой `IPython.display`, чтобы послушать, что у нас получилось:"
   ]
  },
  {
   "cell_type": "code",
   "execution_count": null,
   "metadata": {},
   "outputs": [],
   "source": [
    "from IPython.display import Audio\n",
    "Audio(snd_new.values, rate=snd_new.sampling_frequency)"
   ]
  },
  {
   "cell_type": "markdown",
   "metadata": {},
   "source": [
    "С помощью функции `call()` можно также выполнять команды, которые не меняют объекты, а возвращают какую-то информацию о них. Например, узнаем, сколько точек в нашем PitchTier'е:"
   ]
  },
  {
   "cell_type": "code",
   "execution_count": null,
   "metadata": {},
   "outputs": [],
   "source": [
    "num_points = parselmouth.praat.call(pitch_tier, \"Get number of points\")\n",
    "print(num_points)"
   ]
  },
  {
   "cell_type": "markdown",
   "metadata": {},
   "source": [
    "Посмотрим, какая ЧОТ задана в первой точке (обратите внимание, что нумерация начинается с единицы):"
   ]
  },
  {
   "cell_type": "code",
   "execution_count": null,
   "metadata": {},
   "outputs": [],
   "source": [
    "print(parselmouth.praat.call(pitch_tier, \"Get value at index\", 1))"
   ]
  },
  {
   "cell_type": "markdown",
   "metadata": {},
   "source": [
    "И посмотрим, на какой временной отметке (в секундах) располагается эта точка:"
   ]
  },
  {
   "cell_type": "code",
   "execution_count": null,
   "metadata": {},
   "outputs": [],
   "source": [
    "print(parselmouth.praat.call(pitch_tier, \"Get time from index\", 1))"
   ]
  },
  {
   "cell_type": "markdown",
   "metadata": {},
   "source": [
    "**Задание для выполнения в классе**: напишите программу, которая получает информацию о всех точках в PitchTier'е и строит график зависимости ЧОТ от времени. Для этого сделайте два списка, каждый длиной `num_points`, в одном из которых будут значения времени, а во втором &ndash; значения ЧОТ."
   ]
  },
  {
   "cell_type": "code",
   "execution_count": 12,
   "metadata": {},
   "outputs": [],
   "source": [
    "import matplotlib.pyplot as plt"
   ]
  },
  {
   "cell_type": "code",
   "execution_count": null,
   "metadata": {},
   "outputs": [],
   "source": [
    "time_values = []\n",
    "f0_values = []\n",
    "\n",
    "\n",
    "# нарисуем график отдельными точками\n",
    "plt.plot(time_values, f0_values, linestyle=\"\", marker=\"o\")\n",
    "plt.xlabel(\"Time, s\")\n",
    "plt.ylabel(\"F0, Hz\")\n",
    "plt.show()"
   ]
  },
  {
   "cell_type": "markdown",
   "metadata": {},
   "source": [
    "Мы можем создать и пустой PitchTier с нужными параметрами, в который сможем добавлять свои точки по нашему желанию:"
   ]
  },
  {
   "cell_type": "code",
   "execution_count": 14,
   "metadata": {},
   "outputs": [],
   "source": [
    "start_time = sound_sbl.xmin\n",
    "end_time = sound_sbl.xmax\n",
    "\n",
    "new_pitch_tier = parselmouth.praat.call(\"Create PitchTier\", \"new_pitch_tier\", start_time, end_time)"
   ]
  },
  {
   "cell_type": "markdown",
   "metadata": {},
   "source": [
    "Давайте добавим в новый PitchTier две точки: одну с частотой 150 Гц на 1/4 длины файла, а другую &ndash; с частотой 300 Гц на 3/4 длины файла. Для этого воспользуемся командой \"Add point\".\n",
    "\n",
    "<!-- <img src=\"https://pkholyavin.github.io/mastersprogramming/add_point.png\" width=\"500\"> -->\n",
    "<img src=\"add_point.png\" width=\"500\">"
   ]
  },
  {
   "cell_type": "code",
   "execution_count": 17,
   "metadata": {},
   "outputs": [],
   "source": [
    "parselmouth.praat.call(new_pitch_tier, \"Add point\", end_time * 0.25, 150)\n",
    "parselmouth.praat.call(new_pitch_tier, \"Add point\", end_time * 0.75, 300)"
   ]
  },
  {
   "cell_type": "markdown",
   "metadata": {},
   "source": [
    "Воткнём его в нашу манипуляцию:"
   ]
  },
  {
   "cell_type": "code",
   "execution_count": null,
   "metadata": {},
   "outputs": [],
   "source": [
    "parselmouth.praat.call([manip, new_pitch_tier], \"Replace pitch tier\")\n",
    "simple_sound = parselmouth.praat.call(manip, \"Get resynthesis (overlap-add)\")\n",
    "Audio(simple_sound.values, rate=simple_sound.sampling_frequency)"
   ]
  },
  {
   "cell_type": "markdown",
   "metadata": {},
   "source": [
    "**Задание для выполнения в классе**: похулиганим! Создайте копию изначального PitchTier'а, где значение каждой точки будет случайным (от минимального до максимального в изначальном PitchTier'е) и синтезируйте звук."
   ]
  },
  {
   "cell_type": "code",
   "execution_count": null,
   "metadata": {},
   "outputs": [],
   "source": [
    "import random\n",
    "random.uniform(1, 10)"
   ]
  },
  {
   "cell_type": "code",
   "execution_count": null,
   "metadata": {},
   "outputs": [],
   "source": []
  },
  {
   "cell_type": "markdown",
   "metadata": {},
   "source": [
    "**Домашнее задание:** пересадить мелодический контур из файла cta0001.wav (донор) в файл kta0001.wav (акцептор) по следующему алгоритму:\n",
    "\n",
    "1. Сгенерировать PitchTier для файла cta0001.wav\n",
    "2. Перебрать все точки в нём\n",
    "3. Для каждой точки определить, внутри какого звука она находится (по файлу cta0001.seg_B1), и на какой доле его длины она находится (e.g. 0.5, если она находится в самой середине, или 0.25, если она находится в конце первой четверти)\n",
    "4. На основании этой информации и файла kta0001.seg_B1 определить, где эта точка лежала бы в новом файле\n",
    "5. Создать новый (пустой) PitchTier под звук kta0001.wav\n",
    "6. По очереди добавить в него точки из старого, исправляя их временные позиции так, чтобы в новом файле они лежали в тех же местах тех же звуков, что и в старом\n",
    "7. Ресинтезировать kta0001 с новым PitchTier'ом\n",
    "8. При желании повторить всё то же самое в обратную сторону\n",
    "\n",
    "Примечание: внимательно отнеситесь к выбору `min_f0` и `max_f0` при создании объекта манипуляции для каждого из файлов! Проверьте (можно вручную через Praat), не возникает ли грубых ошибок.\n",
    "\n",
    "<img src=\"https://pkholyavin.github.io/mastersprogramming/transfer.png\" width=\"800\">"
   ]
  }
 ],
 "metadata": {
  "kernelspec": {
   "display_name": "Python 3",
   "language": "python",
   "name": "python3"
  },
  "language_info": {
   "codemirror_mode": {
    "name": "ipython",
    "version": 3
   },
   "file_extension": ".py",
   "mimetype": "text/x-python",
   "name": "python",
   "nbconvert_exporter": "python",
   "pygments_lexer": "ipython3",
   "version": "3.9.0"
  }
 },
 "nbformat": 4,
 "nbformat_minor": 2
}
