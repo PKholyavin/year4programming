{
 "cells": [
  {
   "attachments": {},
   "cell_type": "markdown",
   "metadata": {},
   "source": [
    "Написать программу, которая вычисляет динамическую деклинацию внутри одной синтагмы и выводит график на экран.  \n",
    "Воспользуйтесь программой из первого семестра для вычисления интенсивности.  \n",
    "Алгоритм можно посмотреть, например, здесь: https://www.researchgate.net/publication/283908493_F0_DECLINATION_IN_RUSSIAN_REVISITED"
   ]
  }
 ],
 "metadata": {
  "language_info": {
   "name": "python"
  },
  "orig_nbformat": 4
 },
 "nbformat": 4,
 "nbformat_minor": 2
}
