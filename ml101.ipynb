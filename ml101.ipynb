{
 "cells": [
  {
   "cell_type": "markdown",
   "metadata": {},
   "source": [
    "Самая доступная библиотека для машинного обучения &ndash; scikit-learn.\n",
    "\n",
    "```pip install scikit-learn```\n",
    "\n",
    "https://scikit-learn.org/stable/user_guide.html"
   ]
  },
  {
   "cell_type": "markdown",
   "metadata": {},
   "source": [
    "Классификаторы в этой библиотеке имеют одинаковый интерфейс:"
   ]
  },
  {
   "cell_type": "code",
   "execution_count": 1,
   "metadata": {},
   "outputs": [],
   "source": [
    "from sklearn.neighbors import KNeighborsClassifier  # К-ближайших соседей\n",
    "from sklearn.tree import DecisionTreeClassifier  # дерево принятия решений\n",
    "from sklearn.svm import SVC  # метод опорных векторов"
   ]
  },
  {
   "cell_type": "markdown",
   "metadata": {},
   "source": [
    "Вспомогательные функции:"
   ]
  },
  {
   "cell_type": "code",
   "execution_count": 20,
   "metadata": {},
   "outputs": [],
   "source": [
    "from sklearn.model_selection import train_test_split  # обучающее и тестовое множество\n",
    "\n",
    "from sklearn.metrics import accuracy_score, precision_score, recall_score, f1_score, confusion_matrix  # оценка\n",
    "\n",
    "import matplotlib.pyplot as plt\n",
    "import numpy as np"
   ]
  },
  {
   "cell_type": "markdown",
   "metadata": {},
   "source": [
    "![](https://upload.wikimedia.org/wikipedia/commons/2/26/Precisionrecall.svg)"
   ]
  },
  {
   "cell_type": "markdown",
   "metadata": {},
   "source": [
    "$$accuracy = \\frac{TP + TN}{TP + TN + FP + FN}$$\n",
    "\n",
    "$$precision = \\frac{TP}{TP + FP}$$\n",
    "\n",
    "$$recall = \\frac{TP}{TP + FN}$$\n",
    "\n",
    "$$ F_1 = 2 \\frac{precision \\cdot recall}{precision + recall} = \\frac{2 \\cdot TP}{2 \\cdot TP + FP + FN}$$"
   ]
  },
  {
   "cell_type": "code",
   "execution_count": 3,
   "metadata": {},
   "outputs": [],
   "source": [
    "clf = DecisionTreeClassifier()"
   ]
  },
  {
   "cell_type": "code",
   "execution_count": 26,
   "metadata": {},
   "outputs": [],
   "source": [
    "data_x = [[1], [3], [-4], [5], [-7], [2], [-1], [-1], [1]] # двумерный массив (вектор векторов признаков для классификации)!\n",
    "data_y = [\"p\", \"p\", \"n\", \"p\", \"n\", \"p\", \"n\", \"n\", \"p\"] # метки классов\n",
    "\n",
    "x_train, x_test, y_train, y_test = train_test_split(data_x, data_y, test_size=0.2)"
   ]
  },
  {
   "cell_type": "code",
   "execution_count": null,
   "metadata": {},
   "outputs": [],
   "source": [
    "print(x_train, x_test, y_train, y_test)"
   ]
  },
  {
   "cell_type": "code",
   "execution_count": null,
   "metadata": {},
   "outputs": [],
   "source": [
    "clf.fit(x_train, y_train)"
   ]
  },
  {
   "cell_type": "code",
   "execution_count": null,
   "metadata": {},
   "outputs": [],
   "source": [
    "y_prediction = clf.predict(x_test)\n",
    "print(y_test, y_prediction)"
   ]
  },
  {
   "cell_type": "code",
   "execution_count": null,
   "metadata": {},
   "outputs": [],
   "source": [
    "accuracy_score(y_test, y_prediction)"
   ]
  },
  {
   "cell_type": "code",
   "execution_count": null,
   "metadata": {},
   "outputs": [],
   "source": [
    "confusion_matrix(y_test, y_prediction)"
   ]
  },
  {
   "cell_type": "markdown",
   "metadata": {},
   "source": [
    "Визуализация дерева:"
   ]
  },
  {
   "cell_type": "code",
   "execution_count": 19,
   "metadata": {},
   "outputs": [],
   "source": [
    "from sklearn.tree import plot_tree"
   ]
  },
  {
   "cell_type": "code",
   "execution_count": null,
   "metadata": {},
   "outputs": [],
   "source": [
    "fig, ax = plt.subplots()\n",
    "plot_tree(clf)"
   ]
  },
  {
   "cell_type": "markdown",
   "metadata": {},
   "source": [
    "**Задание для выполнения в классе:** реализовать свои функции для вычисления accuracy, precision, recall, F1-score, построения матрицы ошибок.\n",
    "\n",
    "**Задание 2:** применить классификатор к данным с формантами гласных. Оценить результат."
   ]
  },
  {
   "cell_type": "markdown",
   "metadata": {},
   "source": [
    "Иногда для лучшего результата нужно провести предобработку данных. Это может быть:\n",
    "\n",
    "1. Масштабирование\n",
    "2. Восполнение отсутствующих данных"
   ]
  },
  {
   "cell_type": "code",
   "execution_count": null,
   "metadata": {},
   "outputs": [],
   "source": [
    "from sklearn import preprocessing"
   ]
  },
  {
   "cell_type": "markdown",
   "metadata": {},
   "source": [
    "Простой датасет:"
   ]
  },
  {
   "cell_type": "code",
   "execution_count": 10,
   "metadata": {},
   "outputs": [],
   "source": [
    "samples = [\n",
    "    (\"a\", [-1, 5]),\n",
    "    (\"a\", [-2, 2]),\n",
    "    (\"a\", [-3, 3]),\n",
    "    (\"a\", [-4, 6]),\n",
    "    (\"a\", [-5, 3]),\n",
    "    (\"a\", [-6, 1]),\n",
    "    (\"b\", [0, -1]),\n",
    "    (\"b\", [1, -4]),\n",
    "    (\"b\", [2, -3]),\n",
    "    (\"b\", [3, -2]),\n",
    "    (\"b\", [4, -1]),\n",
    "    (\"b\", [5, -5]),\n",
    "    (\"c\", [0, 3]),\n",
    "    (\"c\", [1, 8]),\n",
    "    (\"c\", [2, 1]),\n",
    "    (\"c\", [3, 2]),\n",
    "    (\"c\", [4, 2]),\n",
    "    (\"c\", [5, 2]),\n",
    "    (\"d\", [-1, -3]),\n",
    "    (\"d\", [-2, -4]),\n",
    "    (\"d\", [-3, -6]),\n",
    "    (\"d\", [-4, -6]),\n",
    "    (\"d\", [-5, -2]),\n",
    "    (\"d\", [-6, -1])]"
   ]
  },
  {
   "cell_type": "code",
   "execution_count": 11,
   "metadata": {},
   "outputs": [],
   "source": [
    "Y, X = zip(*samples)"
   ]
  },
  {
   "cell_type": "code",
   "execution_count": 12,
   "metadata": {},
   "outputs": [],
   "source": [
    "scaler = preprocessing.StandardScaler().fit(X) # среднее = 0, дисперсия = 1\n",
    "standardized_X = scaler.transform(X)"
   ]
  },
  {
   "cell_type": "code",
   "execution_count": 13,
   "metadata": {},
   "outputs": [],
   "source": [
    "min_max_scaler = preprocessing.MinMaxScaler().fit(X) # от 0 до 1\n",
    "normalized_X = min_max_scaler.transform(X)"
   ]
  },
  {
   "cell_type": "markdown",
   "metadata": {},
   "source": [
    "Сравним:"
   ]
  },
  {
   "cell_type": "code",
   "execution_count": null,
   "metadata": {},
   "outputs": [],
   "source": [
    "fig, axs = plt.subplots(2, 2)\n",
    "axs[0, 0].scatter(*zip(*X))\n",
    "axs[0, 1].scatter(*zip(*normalized_X))\n",
    "axs[1, 1].scatter(*zip(*standardized_X))"
   ]
  },
  {
   "cell_type": "markdown",
   "metadata": {},
   "source": [
    "Датасет с пропущенными значениями:"
   ]
  },
  {
   "cell_type": "code",
   "execution_count": 15,
   "metadata": {},
   "outputs": [],
   "source": [
    "samples_missing = [\n",
    "    (\"a\", [-1, 5]),\n",
    "    (\"a\", [-2, np.nan]),\n",
    "    (\"a\", [-3, 3]),\n",
    "    (\"a\", [-4, 6]),\n",
    "    (\"a\", [-5, 3]),\n",
    "    (\"a\", [-6, 1]),\n",
    "    (\"b\", [0, -1]),\n",
    "    (\"b\", [1, -4]),\n",
    "    (\"b\", [np.nan, -3]),\n",
    "    (\"b\", [3, -2]),\n",
    "    (\"b\", [4, -1]),\n",
    "    (\"b\", [5, -5]),\n",
    "    (\"c\", [0, 3]),\n",
    "    (\"c\", [1, 8]),\n",
    "    (\"c\", [2, 1]),\n",
    "    (\"c\", [3, 2]),\n",
    "    (\"c\", [np.nan, 2]),\n",
    "    (\"c\", [5, 2]),\n",
    "    (\"d\", [-1, -3]),\n",
    "    (\"d\", [-2, -4]),\n",
    "    (\"d\", [-3, -6]),\n",
    "    (\"d\", [-4, np.nan]),\n",
    "    (\"d\", [-5, -2]),\n",
    "    (\"d\", [-6, -1])]"
   ]
  },
  {
   "cell_type": "code",
   "execution_count": 16,
   "metadata": {},
   "outputs": [],
   "source": [
    "Ym, Xm = zip(*samples_missing)"
   ]
  },
  {
   "cell_type": "code",
   "execution_count": 17,
   "metadata": {},
   "outputs": [],
   "source": [
    "from sklearn.impute import SimpleImputer\n",
    "imp = SimpleImputer(missing_values=np.nan, strategy='mean')\n",
    "imp.fit(Xm)\n",
    "Xm_imputed = imp.transform(Xm)"
   ]
  },
  {
   "cell_type": "code",
   "execution_count": null,
   "metadata": {},
   "outputs": [],
   "source": [
    "Xm_imputed"
   ]
  },
  {
   "cell_type": "markdown",
   "metadata": {},
   "source": [
    "**Задание:** проверить, как изменится работа классификатора, если:\n",
    "1. нормализовать данные\n",
    "2. стандартизировать данные\n",
    "3. рассматривать неправдоподобные значения формант как отсутствующие"
   ]
  }
 ],
 "metadata": {
  "kernelspec": {
   "display_name": "Python 3",
   "language": "python",
   "name": "python3"
  },
  "language_info": {
   "codemirror_mode": {
    "name": "ipython",
    "version": 3
   },
   "file_extension": ".py",
   "mimetype": "text/x-python",
   "name": "python",
   "nbconvert_exporter": "python",
   "pygments_lexer": "ipython3",
   "version": "3.9.0"
  }
 },
 "nbformat": 4,
 "nbformat_minor": 2
}
