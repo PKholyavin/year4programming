{
 "cells": [
  {
   "attachments": {},
   "cell_type": "markdown",
   "metadata": {},
   "source": [
    "Напишите алгоритм с помощью любого классификатора из библиотеки scipy, который классифицирует гласные из корпуса corpres (см. приложенные файлы) по их мгновенным либо динамическим спектрограммам."
   ]
  }
 ],
 "metadata": {
  "language_info": {
   "name": "python"
  },
  "orig_nbformat": 4
 },
 "nbformat": 4,
 "nbformat_minor": 2
}
