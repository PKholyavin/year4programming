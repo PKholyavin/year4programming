{
 "cells": [
  {
   "cell_type": "markdown",
   "metadata": {},
   "source": [
    "Часто (но не всегда) информация о частоте основного тона в сигнале хранится в виде меток, которые обозначают границы периодов основного тона. Заметьте, что принципы расставления границ могут отличаться: у нас началом периода принято считать переход через 0 в положительную область, в других местах - минимальное значение (отрицательный пик)."
   ]
  },
  {
   "cell_type": "markdown",
   "metadata": {},
   "source": [
    "I. Форматы записи меток периодов основного тона:\n",
    "\n",
    "1. seg_G1 (Wave Assistant)"
   ]
  },
  {
   "cell_type": "code",
   "execution_count": null,
   "metadata": {},
   "outputs": [],
   "source": [
    "!wget https://pkholyavin.github.io/mastersprogramming/cta0001.seg_G1"
   ]
  },
  {
   "cell_type": "code",
   "execution_count": 1,
   "metadata": {},
   "outputs": [],
   "source": [
    "from itertools import product\n",
    "letters = \"GBRY\"\n",
    "nums = \"1234\"\n",
    "levels = [ch + num for num, ch in product(nums, letters)]\n",
    "level_codes = [2 ** i for i in range(len(levels))]\n",
    "code_to_level = {i: j for i, j in zip(level_codes, levels)}\n",
    "level_to_code = {j: i for i, j in zip(level_codes, levels)}"
   ]
  },
  {
   "cell_type": "code",
   "execution_count": 2,
   "metadata": {},
   "outputs": [],
   "source": [
    "def read_seg(filename: str, encoding: str = \"utf-8-sig\") -> tuple[dict, list[dict]]:\n",
    "    with open(filename, encoding=encoding) as f:\n",
    "        lines = [line.strip() for line in f.readlines()]\n",
    "\n",
    "    # найдём границы секций в списке строк:\n",
    "    header_start = lines.index(\"[PARAMETERS]\") + 1\n",
    "    data_start = lines.index(\"[LABELS]\") + 1\n",
    "\n",
    "    # прочитаем параметры\n",
    "    params = {}\n",
    "    for line in lines[header_start:data_start - 1]:\n",
    "        key, value = line.split(\"=\")\n",
    "        params[key] = int(value)\n",
    "\n",
    "    # прочитаем метки\n",
    "    labels = []\n",
    "    for line in lines[data_start:]:\n",
    "        # если в строке нет запятых, значит, это не метка и метки закончились\n",
    "        if line.count(\",\") < 2:\n",
    "            break\n",
    "        pos, level, name = line.split(\",\", maxsplit=2)\n",
    "        label = {\n",
    "            \"position\": int(pos) // params[\"BYTE_PER_SAMPLE\"] // params[\"N_CHANNEL\"],\n",
    "            \"level\": code_to_level[int(level)],\n",
    "            \"name\": name\n",
    "        }\n",
    "        labels.append(label)\n",
    "    return params, labels"
   ]
  },
  {
   "cell_type": "code",
   "execution_count": null,
   "metadata": {},
   "outputs": [],
   "source": [
    "params, labels = read_seg(\"cta0001.seg_G1\")\n",
    "labels"
   ]
  },
  {
   "cell_type": "markdown",
   "metadata": {},
   "source": [
    "На уровне G1 часто (но не всегда!) также находятся метки, обозначающие границы файла. Они не являются метками границ периодов ОТ!"
   ]
  },
  {
   "cell_type": "code",
   "execution_count": null,
   "metadata": {},
   "outputs": [],
   "source": [
    "pitch_labels = labels[1:-1]"
   ]
  },
  {
   "cell_type": "markdown",
   "metadata": {},
   "source": [
    "2. PointProcess (Praat)"
   ]
  },
  {
   "cell_type": "code",
   "execution_count": null,
   "metadata": {},
   "outputs": [],
   "source": [
    "!wget https://pkholyavin.github.io/mastersprogramming/cta0001.PointProcess"
   ]
  },
  {
   "cell_type": "code",
   "execution_count": null,
   "metadata": {},
   "outputs": [],
   "source": [
    "with open(\"cta0001.PointProcess\") as f:\n",
    "    lines = f.readlines()\n",
    "print(*lines, sep=\"\")"
   ]
  },
  {
   "cell_type": "code",
   "execution_count": null,
   "metadata": {},
   "outputs": [],
   "source": [
    "pitch_marks = [float(line.split(\" = \")[-1]) for line in lines[7:]]\n",
    "print(pitch_marks)"
   ]
  },
  {
   "cell_type": "markdown",
   "metadata": {},
   "source": [
    "Факультативное задание: напишите функцию, которая читает файл PointProcess и при этом не опирается на волшебные числа (7)."
   ]
  },
  {
   "cell_type": "markdown",
   "metadata": {},
   "source": [
    "3. Файлы .pm (REAPER)"
   ]
  },
  {
   "cell_type": "markdown",
   "metadata": {},
   "source": [
    "Установим утилиту REAPER:"
   ]
  },
  {
   "cell_type": "code",
   "execution_count": null,
   "metadata": {},
   "outputs": [],
   "source": [
    "%%bash\n",
    "git clone https://github.com/google/REAPER.git\n",
    "cd REAPER\n",
    "mkdir build   # In the REAPER top-level directory\n",
    "cd build\n",
    "cmake ..\n",
    "make"
   ]
  },
  {
   "cell_type": "code",
   "execution_count": null,
   "metadata": {},
   "outputs": [],
   "source": [
    "!wget https://pkholyavin.github.io/mastersprogramming/cta0001.wav"
   ]
  },
  {
   "cell_type": "code",
   "execution_count": null,
   "metadata": {},
   "outputs": [],
   "source": [
    "!REAPER/build/reaper -i cta0001.wav -p cta0001.pm -a"
   ]
  },
  {
   "cell_type": "code",
   "execution_count": null,
   "metadata": {},
   "outputs": [],
   "source": [
    "with open(\"cta0001.pm\") as f:\n",
    "    lines = f.readlines()\n",
    "print(*lines, sep=\"\")"
   ]
  },
  {
   "cell_type": "code",
   "execution_count": null,
   "metadata": {},
   "outputs": [],
   "source": [
    "pitch_marks = [[float(line.split(\" \")[0]), int(line.split(\" \")[1])] for line in lines[7:]] # time and voicing\n",
    "print(pitch_marks)"
   ]
  },
  {
   "cell_type": "markdown",
   "metadata": {},
   "source": [
    "II. Обработка меток периодов\n",
    "\n",
    "Вопрос:\n",
    "1. Как, зная время начала и конца периода, определить его длину?\n",
    "2. Как, зная длину периода, определить значение частоты основного тона в этот момент времени?"
   ]
  },
  {
   "cell_type": "markdown",
   "metadata": {},
   "source": [
    "Не любая пара меток в файле соответствует периоду ОТ. Некоторые из них отмечают глухие участки:"
   ]
  },
  {
   "cell_type": "markdown",
   "metadata": {},
   "source": [
    "<img src=\"https://pkholyavin.github.io/mastersprogramming/voiceless_part.png\" width=\"1000\">"
   ]
  },
  {
   "cell_type": "markdown",
   "metadata": {},
   "source": [
    "Отличить одно от другого мы можем, задав минимальное возможное значение ЧОТ. Тогда мы сможем отличить такие интервалы по длине: периодами ОТ будут только те интервалы, которые короче определённого порога.\n",
    "\n",
    "Вопрос: если минимальная возможная ЧОТ = 50 Гц, чему равна максимально возможная длина периода?"
   ]
  },
  {
   "cell_type": "code",
   "execution_count": null,
   "metadata": {},
   "outputs": [],
   "source": [
    "min_f0 = 50  # Hz\n",
    "max_period = \"чему?\""
   ]
  },
  {
   "cell_type": "markdown",
   "metadata": {},
   "source": [
    "Задание для выполнения в классе: напишите функцию, которая принимает на вход имя файла .seg_G1 и пороговое значение ЧОТ (50 Гц по умолчанию) и возвращает два списка: в одном - положение каждого периода (т.е. его середина), во втором - значение ЧОТ в этом периоде или NaN, если это значение оказалось меньше порогового. "
   ]
  },
  {
   "cell_type": "markdown",
   "metadata": {},
   "source": [
    "NaN (Not a Number) - значение, которое часто используют в качестве заместителя для пропущенных данных. Его можно получить, например, так:"
   ]
  },
  {
   "cell_type": "code",
   "execution_count": null,
   "metadata": {},
   "outputs": [],
   "source": [
    "nan_val = float(\"nan\")\n",
    "print(nan_val)"
   ]
  },
  {
   "cell_type": "markdown",
   "metadata": {},
   "source": [
    "Или так:"
   ]
  },
  {
   "cell_type": "code",
   "execution_count": null,
   "metadata": {},
   "outputs": [],
   "source": [
    "import numpy as np\n",
    "nan_val2 = np.nan\n",
    "print(nan_val2)"
   ]
  },
  {
   "cell_type": "markdown",
   "metadata": {},
   "source": [
    "NaN не равен никакому числу и не равен сам себе:"
   ]
  },
  {
   "cell_type": "code",
   "execution_count": null,
   "metadata": {},
   "outputs": [],
   "source": [
    "nan_val == nan_val"
   ]
  },
  {
   "cell_type": "markdown",
   "metadata": {},
   "source": [
    "Чтобы проверить, является ли значение NaN, есть специальные функции:"
   ]
  },
  {
   "cell_type": "code",
   "execution_count": null,
   "metadata": {},
   "outputs": [],
   "source": [
    "np.isnan(nan_val)"
   ]
  },
  {
   "cell_type": "markdown",
   "metadata": {},
   "source": [
    "Если мы будем строить графики по данным, содержащим NaN, с помощью matplotlib, то в соответствующих местах появятся разрывы. Сравните:"
   ]
  },
  {
   "cell_type": "code",
   "execution_count": 21,
   "metadata": {},
   "outputs": [],
   "source": [
    "x = list(range(10))\n",
    "y1 = [1, 2, 3, np.nan, np.nan, 5, 4, 3, 2, 1]\n",
    "y2 = [1, 2, 3, 4, 5, 5, 4, 3, 2, 1]"
   ]
  },
  {
   "cell_type": "code",
   "execution_count": null,
   "metadata": {},
   "outputs": [],
   "source": [
    "import matplotlib.pyplot as plt\n",
    "fig, axes = plt.subplots(1, 2)\n",
    "axes[0].plot(x, y1)\n",
    "axes[1].plot(x, y2)"
   ]
  },
  {
   "cell_type": "markdown",
   "metadata": {},
   "source": [
    "Вспомним, как можно обрабатывать метки попарно:"
   ]
  },
  {
   "cell_type": "code",
   "execution_count": null,
   "metadata": {},
   "outputs": [],
   "source": [
    "def print_label_pairs(filename):\n",
    "    params, labels = read_seg(filename)\n",
    "    for start, end in zip(labels, labels[1:]):\n",
    "        print(start, end)"
   ]
  },
  {
   "cell_type": "code",
   "execution_count": null,
   "metadata": {},
   "outputs": [],
   "source": [
    "def get_f0(filename: str, min_f0: float = 50.0) -> tuple[list[float]]:\n",
    "    times, f0_values = [], []\n",
    "    # прочитать сег\n",
    "    # убрать из него метки начала и конца файла\n",
    "    # перебрать метки попарно\n",
    "    # в каждом интервале:\n",
    "    # определить место середины В СЕКУНДАХ, добавить в times\n",
    "    # определить значение ЧОТ\n",
    "    # если оно >= минимального, добавить в f0_values\n",
    "    # в противном случае добавить в f0_values NaN\n",
    "    return times, f0_values"
   ]
  },
  {
   "cell_type": "markdown",
   "metadata": {},
   "source": [
    "Используем эту функцию для построения графика несглаженной ЧОТ:"
   ]
  },
  {
   "cell_type": "code",
   "execution_count": null,
   "metadata": {},
   "outputs": [],
   "source": [
    "times, f0_values = get_f0(\"cta0001.seg_G1\")\n",
    "plt.plot(times, f0_values)\n",
    "plt.show()"
   ]
  },
  {
   "cell_type": "markdown",
   "metadata": {},
   "source": [
    "Домашнее задание: напишите программу, которая определяет границы каждого звонкого участка в файле по меткам ОТ и генерирует файл .TextGrid, содержащий интервалы, им соответствующие. Названием каждого интервала сделайте число, которое показывает разницу между максимальным и минимальным значением ЧОТ в этом участке.\n",
    "\n",
    "Необязательное дополнение: выразите эту разницу в полутонах. Формула для перевода разницы между двумя частотами в полутона:\n",
    "\n",
    "$$st = 12 \\cdot \\log_{2}{\\frac{f_2}{f_1}}$$\n",
    "\n",
    "Что должно получиться:"
   ]
  },
  {
   "cell_type": "markdown",
   "metadata": {},
   "source": [
    "<img src=\"https://pkholyavin.github.io/mastersprogramming/pitch_result_example.png\" width=\"1000\">"
   ]
  },
  {
   "cell_type": "markdown",
   "metadata": {},
   "source": [
    "Функции для логарифма:"
   ]
  },
  {
   "cell_type": "code",
   "execution_count": null,
   "metadata": {},
   "outputs": [],
   "source": [
    "from math import log2\n",
    "log2(10)"
   ]
  },
  {
   "cell_type": "code",
   "execution_count": null,
   "metadata": {},
   "outputs": [],
   "source": [
    "import numpy as np\n",
    "np.log2(10)"
   ]
  },
  {
   "cell_type": "markdown",
   "metadata": {},
   "source": [
    "Возможный алгоритм:"
   ]
  },
  {
   "cell_type": "code",
   "execution_count": null,
   "metadata": {},
   "outputs": [],
   "source": [
    "def voiced_regions(seg_filename: str, min_f0: float = 50) -> None:\n",
    "    # прочитаем метки из файла\n",
    "\n",
    "    # создадим список, куда будем добавлять наши звонкие участки\n",
    "    # каждый звонкий участок характеризуется тремя параметрами:\n",
    "    # время начала, время конца, список значений ЧОТ внутри него\n",
    "    # можно реализовать это в виде словаря с тремя ключами,\n",
    "    # два из которых будут хранить числовые значения, третий - список чисел\n",
    "\n",
    "    # сразу добавим в этот список первый участок\n",
    "    # его время начала соотвествует первой метке\n",
    "    # а время конца мы ещё не знаем\n",
    "\n",
    "    # переберём все пары меток\n",
    "    # если пара является настоящим периодом ОТ, то добавляем значение ЧОТ в текущий участок\n",
    "    # (т.е. последний участок в большом списке)\n",
    "    # иначе текущему участку назначаем время конца, равное левой метке в паре\n",
    "    # и добавляем в большой список новый участок со временем начала, равным правой метке в паре\n",
    "\n",
    "    # после конца цикла последнему участку назначим время конца, равное последней метке\n",
    "\n",
    "    # создадим новый текстгрид, добавим в него интервальный уровень\n",
    "    # end_time этого уровня пусть будет равен времени самой последней метки в файле\n",
    "    # (которую мы не учитывали при анализе ЧОТ)\n",
    "\n",
    "    # теперь переберём все участки\n",
    "    # для каждого создадим новый интервал с границами, соответствующими границам участка\n",
    "    # вычислим перепад ЧОТ, переведём в строку, сделаем именем созданного интервала\n",
    "\n",
    "    # запишем текстгрид в файл\n",
    "    pass"
   ]
  }
 ],
 "metadata": {
  "kernelspec": {
   "display_name": "Python 3",
   "language": "python",
   "name": "python3"
  },
  "language_info": {
   "codemirror_mode": {
    "name": "ipython",
    "version": 3
   },
   "file_extension": ".py",
   "mimetype": "text/x-python",
   "name": "python",
   "nbconvert_exporter": "python",
   "pygments_lexer": "ipython3",
   "version": "3.9.0"
  }
 },
 "nbformat": 4,
 "nbformat_minor": 2
}
