{
 "cells": [
  {
   "cell_type": "markdown",
   "metadata": {},
   "source": [
    "TextGrid annotation\n",
    "\n",
    "https://textgridtools.readthedocs.io/en/stable/api.html"
   ]
  },
  {
   "cell_type": "code",
   "execution_count": null,
   "metadata": {},
   "outputs": [],
   "source": [
    "%pip install tgt"
   ]
  },
  {
   "cell_type": "code",
   "execution_count": null,
   "metadata": {},
   "outputs": [],
   "source": [
    "import tgt"
   ]
  },
  {
   "cell_type": "code",
   "execution_count": null,
   "metadata": {},
   "outputs": [],
   "source": [
    "new_grid = tgt.core.TextGrid()\n",
    "new_tier = tgt.core.IntervalTier(name=\"new tier\")\n",
    "time_step = 0.1 # seconds\n",
    "for i in range(10):\n",
    "    new_tier.add_annotation(tgt.Interval(i * time_step, (i + 1) * time_step, f\"interval {i}\"))\n",
    "new_grid.add_tier(new_tier)\n",
    "tgt.io.write_to_file(new_grid, \"out.TextGrid\", format=\"long\")"
   ]
  },
  {
   "cell_type": "code",
   "execution_count": null,
   "metadata": {},
   "outputs": [],
   "source": [
    "fpt_grid = tgt.io.read_textgrid(\"av1fpt1.TextGrid\")\n",
    "for tier in fpt_grid:\n",
    "    print(tier.name)\n",
    "for interval in fpt_grid.get_tier_by_name(\"acoustic\"):\n",
    "    print(interval.start_time, interval.end_time, interval.text)"
   ]
  },
  {
   "cell_type": "code",
   "execution_count": null,
   "metadata": {},
   "outputs": [],
   "source": [
    "with open(\"n1fpt1.PointProcess\", \"r\") as f:\n",
    "    lines = f.readlines()\n",
    "points = [float(i.strip().split(\" \")[-1]) for i in lines[7:] if i.strip()]\n",
    "points[:10]"
   ]
  },
  {
   "cell_type": "markdown",
   "metadata": {},
   "source": [
    "Задание:\n",
    "1. Написать программу, которая (а) считывает .seg_* файлы всех уровней и преобразует их в .TextGrid (IntervalTier); (б) считывает .TextGrid и все уровни из него записывает в отдельные .seg_* файлы\n",
    "2. Написать программу, которая преобразует .PointProcess в .seg_G1 и наоборот. Сгенерировать метки основного тона в Praat и Wave Assistant. Сравнить друг с другом. Вывести на экран график ЧОТ с помощью matplotlib."
   ]
  }
 ],
 "metadata": {
  "kernelspec": {
   "display_name": "Python 3.9.0 64-bit",
   "language": "python",
   "name": "python3"
  },
  "language_info": {
   "codemirror_mode": {
    "name": "ipython",
    "version": 3
   },
   "file_extension": ".py",
   "mimetype": "text/x-python",
   "name": "python",
   "nbconvert_exporter": "python",
   "pygments_lexer": "ipython3",
   "version": "3.9.0"
  },
  "orig_nbformat": 4,
  "vscode": {
   "interpreter": {
    "hash": "364dcd152da2692276e72902df2858159ccc300c15062838033fe03303e9b26c"
   }
  }
 },
 "nbformat": 4,
 "nbformat_minor": 2
}
