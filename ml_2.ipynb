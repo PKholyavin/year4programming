{
 "cells": [
  {
   "cell_type": "code",
   "execution_count": 17,
   "metadata": {},
   "outputs": [],
   "source": [
    "from sklearn import preprocessing\n",
    "import matplotlib.pyplot as plt\n",
    "import numpy as np"
   ]
  },
  {
   "cell_type": "code",
   "execution_count": 1,
   "metadata": {},
   "outputs": [],
   "source": [
    "samples = [\n",
    "    (\"a\", [-1, 5]),\n",
    "    (\"a\", [-2, 2]),\n",
    "    (\"a\", [-3, 3]),\n",
    "    (\"a\", [-4, 6]),\n",
    "    (\"a\", [-5, 3]),\n",
    "    (\"a\", [-6, 1]),\n",
    "    (\"b\", [0, -1]),\n",
    "    (\"b\", [1, -4]),\n",
    "    (\"b\", [2, -3]),\n",
    "    (\"b\", [3, -2]),\n",
    "    (\"b\", [4, -1]),\n",
    "    (\"b\", [5, -5]),\n",
    "    (\"c\", [0, 3]),\n",
    "    (\"c\", [1, 8]),\n",
    "    (\"c\", [2, 1]),\n",
    "    (\"c\", [3, 2]),\n",
    "    (\"c\", [4, 2]),\n",
    "    (\"c\", [5, 2]),\n",
    "    (\"d\", [-1, -3]),\n",
    "    (\"d\", [-2, -4]),\n",
    "    (\"d\", [-3, -6]),\n",
    "    (\"d\", [-4, -6]),\n",
    "    (\"d\", [-5, -2]),\n",
    "    (\"d\", [-6, -1])]"
   ]
  },
  {
   "cell_type": "code",
   "execution_count": 3,
   "metadata": {},
   "outputs": [],
   "source": [
    "Y, X = zip(*samples)"
   ]
  },
  {
   "cell_type": "code",
   "execution_count": 27,
   "metadata": {},
   "outputs": [],
   "source": [
    "scaler = preprocessing.StandardScaler().fit(X) # среднее = 1, дисперсия = 0\n",
    "standardized_X = scaler.transform(X)"
   ]
  },
  {
   "cell_type": "code",
   "execution_count": 29,
   "metadata": {},
   "outputs": [],
   "source": [
    "min_max_scaler = preprocessing.MinMaxScaler().fit(X) # от 0 до 1\n",
    "normalized_X = min_max_scaler.transform(X)"
   ]
  },
  {
   "cell_type": "code",
   "execution_count": 30,
   "metadata": {},
   "outputs": [
    {
     "data": {
      "text/plain": [
       "<matplotlib.collections.PathCollection at 0x19703333790>"
      ]
     },
     "execution_count": 30,
     "metadata": {},
     "output_type": "execute_result"
    },
    {
     "data": {
      "image/png": "[encoded data removed]",
      "text/plain": [
       "<Figure size 640x480 with 4 Axes>"
      ]
     },
     "metadata": {},
     "output_type": "display_data"
    }
   ],
   "source": [
    "fig, axs = plt.subplots(2, 2)\n",
    "axs[0, 0].scatter(*zip(*X))\n",
    "axs[0, 1].scatter(*zip(*normalized_X))\n",
    "axs[1, 1].scatter(*zip(*standardized_X))"
   ]
  },
  {
   "cell_type": "code",
   "execution_count": 18,
   "metadata": {},
   "outputs": [],
   "source": [
    "samples_missing = [\n",
    "    (\"a\", [-1, 5]),\n",
    "    (\"a\", [-2, np.nan]),\n",
    "    (\"a\", [-3, 3]),\n",
    "    (\"a\", [-4, 6]),\n",
    "    (\"a\", [-5, 3]),\n",
    "    (\"a\", [-6, 1]),\n",
    "    (\"b\", [0, -1]),\n",
    "    (\"b\", [1, -4]),\n",
    "    (\"b\", [np.nan, -3]),\n",
    "    (\"b\", [3, -2]),\n",
    "    (\"b\", [4, -1]),\n",
    "    (\"b\", [5, -5]),\n",
    "    (\"c\", [0, 3]),\n",
    "    (\"c\", [1, 8]),\n",
    "    (\"c\", [2, 1]),\n",
    "    (\"c\", [3, 2]),\n",
    "    (\"c\", [np.nan, 2]),\n",
    "    (\"c\", [5, 2]),\n",
    "    (\"d\", [-1, -3]),\n",
    "    (\"d\", [-2, -4]),\n",
    "    (\"d\", [-3, -6]),\n",
    "    (\"d\", [-4, np.nan]),\n",
    "    (\"d\", [-5, -2]),\n",
    "    (\"d\", [-6, -1])]"
   ]
  },
  {
   "cell_type": "code",
   "execution_count": 24,
   "metadata": {},
   "outputs": [],
   "source": [
    "Ym, Xm = zip(*samples_missing)"
   ]
  },
  {
   "cell_type": "code",
   "execution_count": 25,
   "metadata": {},
   "outputs": [],
   "source": [
    "from sklearn.impute import SimpleImputer\n",
    "imp = SimpleImputer(missing_values=np.nan, strategy='mean')\n",
    "imp.fit(Xm)\n",
    "Xm_imputed = imp.transform(Xm)"
   ]
  },
  {
   "cell_type": "code",
   "execution_count": null,
   "metadata": {},
   "outputs": [],
   "source": [
    "Xm_imputed"
   ]
  },
  {
   "cell_type": "markdown",
   "metadata": {},
   "source": [
    "Задание: проверить, как изменится работа классификатора (см. предыдущее занятие), если:\n",
    "1. нормализовать данные\n",
    "2. стандартизировать данные\n",
    "3. рассматривать неправдоподобные значения формант как отсутствующие"
   ]
  }
 ],
 "metadata": {
  "kernelspec": {
   "display_name": "Python 3",
   "language": "python",
   "name": "python3"
  },
  "language_info": {
   "codemirror_mode": {
    "name": "ipython",
    "version": 3
   },
   "file_extension": ".py",
   "mimetype": "text/x-python",
   "name": "python",
   "nbconvert_exporter": "python",
   "pygments_lexer": "ipython3",
   "version": "3.9.0"
  }
 },
 "nbformat": 4,
 "nbformat_minor": 2
}
