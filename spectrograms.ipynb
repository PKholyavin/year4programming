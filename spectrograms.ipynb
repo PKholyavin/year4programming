{
  "cells": [
    {
      "cell_type": "code",
      "execution_count": null,
      "metadata": {
        "id": "rqTDD74X4nL3"
      },
      "outputs": [],
      "source": [
        "import scipy.io.wavfile as wav\n",
        "import numpy as np\n",
        "fs, signal = wav.read(\"cta0001.wav\")"
      ]
    },
    {
      "cell_type": "code",
      "execution_count": null,
      "metadata": {
        "id": "rVfrGi2B5KFh"
      },
      "outputs": [],
      "source": [
        "idx = np.argmax(signal)\n",
        "print(signal[idx])"
      ]
    },
    {
      "cell_type": "code",
      "execution_count": null,
      "metadata": {
        "id": "2w80d3R15YXx"
      },
      "outputs": [],
      "source": [
        "print(signal[idx] ** 2)"
      ]
    },
    {
      "cell_type": "code",
      "execution_count": null,
      "metadata": {
        "id": "uywyu7o_5clR"
      },
      "outputs": [],
      "source": [
        "squared_signal = signal ** 2\n",
        "print(squared_signal[idx])"
      ]
    },
    {
      "cell_type": "code",
      "execution_count": null,
      "metadata": {
        "id": "uTAUC7tL5uyz"
      },
      "outputs": [],
      "source": [
        "clever_squared_signal = np.asarray(signal, dtype=np.int64) ** 2\n",
        "print(clever_squared_signal[idx])"
      ]
    },
    {
      "cell_type": "code",
      "execution_count": 8,
      "metadata": {
        "id": "SfkVK6iD59mb"
      },
      "outputs": [],
      "source": [
        "normalized_signal = signal / np.iinfo(np.int32).max"
      ]
    },
    {
      "cell_type": "code",
      "execution_count": null,
      "metadata": {
        "id": "CfH1C5_2vtsl"
      },
      "outputs": [],
      "source": [
        "import matplotlib.pyplot as plt\n",
        "import numpy as np\n",
        "from scipy.signal import windows\n",
        "M = 256"
      ]
    },
    {
      "cell_type": "code",
      "execution_count": null,
      "metadata": {
        "id": "QZ3yHW5Cvtso"
      },
      "outputs": [],
      "source": [
        "signal = np.sin(np.arange(M) / 10)\n",
        "fs = 8000\n",
        "time = np.linspace(0, M / fs, M)\n",
        "plt.plot(time, signal)"
      ]
    },
    {
      "cell_type": "code",
      "execution_count": null,
      "metadata": {
        "id": "OESsmFGkvtsp"
      },
      "outputs": [],
      "source": [
        "plt.plot(windows.hamming(M) * signal)\n",
        "plt.show()"
      ]
    },
    {
      "cell_type": "markdown",
      "metadata": {
        "id": "CYSlXQaNvtsq"
      },
      "source": [
        "Окна\n",
        "https://docs.scipy.org/doc/scipy/reference/signal.windows.html"
      ]
    },
    {
      "cell_type": "code",
      "execution_count": null,
      "metadata": {
        "id": "0XZftELLvtss"
      },
      "outputs": [],
      "source": [
        "plt.plot(windows.gaussian(M, M / 4))\n",
        "plt.show()"
      ]
    },
    {
      "cell_type": "code",
      "execution_count": null,
      "metadata": {
        "id": "61LG-Gawvtst"
      },
      "outputs": [],
      "source": [
        "plt.plot(windows.hann(M))\n",
        "plt.show()"
      ]
    },
    {
      "cell_type": "code",
      "execution_count": null,
      "metadata": {
        "id": "_-Kfi1a5vtsv"
      },
      "outputs": [],
      "source": [
        "from scipy.fft import fft\n",
        "plt.plot(np.abs(fft(signal)))\n"
      ]
    },
    {
      "cell_type": "code",
      "execution_count": null,
      "metadata": {
        "id": "sLM3wy1_vtsw"
      },
      "outputs": [],
      "source": [
        "import random\n",
        "x = 100\n",
        "y = 200\n",
        "heatmap = np.asarray([[random.randint(0, 10) * i * j for i in range(x)] for j in range(y)])\n",
        "plt.imshow(heatmap)"
      ]
    },
    {
      "cell_type": "code",
      "execution_count": null,
      "metadata": {
        "id": "PfCiOPJMvtsw"
      },
      "outputs": [],
      "source": [
        "plt.imshow(heatmap.transpose())"
      ]
    },
    {
      "cell_type": "code",
      "execution_count": null,
      "metadata": {
        "id": "KXkQRDMnvtsy"
      },
      "outputs": [],
      "source": [
        "plt.imshow(np.fliplr(heatmap))"
      ]
    }
  ],
  "metadata": {
    "colab": {
      "provenance": []
    },
    "kernelspec": {
      "display_name": "Python 3.10.7 64-bit",
      "language": "python",
      "name": "python3"
    },
    "language_info": {
      "codemirror_mode": {
        "name": "ipython",
        "version": 3
      },
      "file_extension": ".py",
      "mimetype": "text/x-python",
      "name": "python",
      "nbconvert_exporter": "python",
      "pygments_lexer": "ipython3",
      "version": "3.10.7"
    },
    "vscode": {
      "interpreter": {
        "hash": "afb734500600fd355917ca529030176ea0ca205570884b88f2f6f7d791fd3fbe"
      }
    }
  },
  "nbformat": 4,
  "nbformat_minor": 0
}
