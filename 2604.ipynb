{
 "cells": [
  {
   "attachments": {},
   "cell_type": "markdown",
   "metadata": {},
   "source": [
    "## Tf-idf\n",
    "\n",
    "Алгоритм для измерения релевантности текста из базы текстов для заданного слова (используется в поиске)\n",
    "\n",
    "`tf` &ndash; term frequency: чем чаще слово встречается в тексте, тем релевантнее этот текст для запроса, содержащего это слово.\n",
    "\n",
    "`idf` &ndash; inverse document frequency: чем больше текстов, содержащих слово, тем менее релевантнен каждый текст для запроса, содержащего это слово."
   ]
  },
  {
   "cell_type": "markdown",
   "metadata": {},
   "source": [
    "$$tf(word, text) = \\frac{f_{word, text}}{L_{text}},$$\n",
    "\n",
    "где $f_{word, text}$ &ndash; сколько раз слово `word` встретилось в тексте `text`, $L_{text}$ &ndash; длина текста `text`;\n",
    "\n",
    "\n",
    "$$idf(word) = log\\frac{N}{N_{word}},$$\n",
    "\n",
    "где $N$ &ndash; количество всех текстов, $N_{word}$ &ndash; количество текстов со словом `word`. Тогда:\n",
    "\n",
    "$$tfidf(word, text) = tf(word, text) \\cdot idf(word)$$"
   ]
  },
  {
   "cell_type": "markdown",
   "metadata": {},
   "source": [
    "Тогда, если у нас есть набор документов, мы можем построить матрицу `tf-idf` для всех слов из этих текстов размером $N \\times V$, где $V$ &ndash; размер словаря. При этом стоит все слова привести к нормальной форме.\n",
    "\n",
    "Имея такую матрицу, мы для любого поискового запроса можем отсортировать тексты по их `tf-idf` и взять самый похожий. Если же в запросе несколько слов, то ключом сортировки будет сумма `tf-idf` для каждого слова."
   ]
  },
  {
   "attachments": {},
   "cell_type": "markdown",
   "metadata": {},
   "source": [
    "Задание для совместного выполнения (чтобы не скучать): построить систему поиска по набору текстов (например, тексты тезисов студенческой конференции).  \n",
    "Система должна для заданного поискового запроса выдавать топ-N текстов (например, 10), отсортированных по сумме `tf-idf` слов из поискового запроса."
   ]
  },
  {
   "cell_type": "code",
   "execution_count": null,
   "metadata": {},
   "outputs": [],
   "source": [
    "!wget pkholyavin.github.io/year4programming/conference_stud_clean.pkl\n",
    "!wget pkholyavin.github.io/year4programming/conference_march.pkl"
   ]
  },
  {
   "cell_type": "code",
   "execution_count": null,
   "metadata": {},
   "outputs": [],
   "source": []
  }
 ],
 "metadata": {
  "language_info": {
   "name": "python"
  },
  "orig_nbformat": 4
 },
 "nbformat": 4,
 "nbformat_minor": 2
}
