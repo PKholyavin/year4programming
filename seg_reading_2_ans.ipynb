{
  "cells": [
    {
      "cell_type": "markdown",
      "metadata": {
        "id": "u9C1JN0q_ELp"
      },
      "source": [
        "Чтение файлов .seg"
      ]
    },
    {
      "cell_type": "code",
      "source": [
        "from google.colab import drive\n",
        "drive.mount('/content/drive')"
      ],
      "metadata": {
        "colab": {
          "base_uri": "https://localhost:8080/"
        },
        "id": "SyAsp_WFh1fr",
        "outputId": "953c8ea5-b35f-417e-e0a0-f3c52c38552c"
      },
      "execution_count": null,
      "outputs": [
        {
          "output_type": "stream",
          "name": "stdout",
          "text": [
            "Mounted at /content/drive\n"
          ]
        }
      ]
    },
    {
      "cell_type": "markdown",
      "metadata": {
        "id": "xhiEeXy-_ELr"
      },
      "source": [
        "Прочитаем текст из файла .seg, выведем его построчно на экран. Какая информация содержится в каждой строке? Какой формат записи?"
      ]
    },
    {
      "cell_type": "code",
      "execution_count": null,
      "metadata": {
        "id": "TzfX1uyP_ELr",
        "colab": {
          "base_uri": "https://localhost:8080/"
        },
        "outputId": "d8d480b6-4839-434f-ea63-74abccf1e64b"
      },
      "outputs": [
        {
          "output_type": "stream",
          "name": "stdout",
          "text": [
            "--2024-10-08 09:48:57--  https://pkholyavin.github.io/mastersprogramming/cta0001.seg_B2\n",
            "Resolving pkholyavin.github.io (pkholyavin.github.io)... 185.199.110.153, 185.199.108.153, 185.199.109.153, ...\n",
            "Connecting to pkholyavin.github.io (pkholyavin.github.io)|185.199.110.153|:443... connected.\n",
            "HTTP request sent, awaiting response... 200 OK\n",
            "Length: 239 [application/octet-stream]\n",
            "Saving to: ‘cta0001.seg_B2’\n",
            "\n",
            "\rcta0001.seg_B2        0%[                    ]       0  --.-KB/s               \rcta0001.seg_B2      100%[===================>]     239  --.-KB/s    in 0s      \n",
            "\n",
            "2024-10-08 09:48:57 (4.00 MB/s) - ‘cta0001.seg_B2’ saved [239/239]\n",
            "\n"
          ]
        }
      ],
      "source": [
        "!wget https://pkholyavin.github.io/mastersprogramming/cta0001.seg_B2"
      ]
    },
    {
      "cell_type": "code",
      "execution_count": null,
      "metadata": {
        "id": "IE94Hj84_ELs",
        "colab": {
          "base_uri": "https://localhost:8080/"
        },
        "outputId": "08bfe397-adfb-4f52-e111-fc6aedc7f44c"
      },
      "outputs": [
        {
          "output_type": "stream",
          "name": "stdout",
          "text": [
            "0\t[PARAMETERS]\n",
            "1\tSAMPLING_FREQ=22050\n",
            "2\tBYTE_PER_SAMPLE=2\n",
            "3\tCODE=0\n",
            "4\tN_CHANNEL=1\n",
            "5\tN_LABEL=13\n",
            "6\t[LABELS]\n",
            "7\t0,32,j\n",
            "8\t8492,32,u0\n",
            "9\t12708,32,r'\n",
            "10\t13708,32,i4 j\n",
            "11\t18180,32,t\n",
            "12\t24904,32,r'\n",
            "13\t25940,32,i0\n",
            "14\t31544,32,f\n",
            "15\t36806,32,a4\n",
            "16\t38604,32,n\n",
            "17\t41618,32,a4\n",
            "18\t44508,32,f\n",
            "19\t54662,32,\n"
          ]
        }
      ],
      "source": [
        "with open(\"cta0001.seg_B2\", \"r\", encoding=\"utf-8-sig\") as f:\n",
        "    lines = f.readlines()\n",
        "\n",
        "for i, line in enumerate(lines):\n",
        "    print(f\"{i}\\t{line.strip()}\")"
      ]
    },
    {
      "cell_type": "markdown",
      "metadata": {
        "id": "EkEhQ4y__ELs"
      },
      "source": [
        "Соответствие уровней:"
      ]
    },
    {
      "cell_type": "code",
      "source": [],
      "metadata": {
        "id": "724owk0qBjTT"
      },
      "execution_count": null,
      "outputs": []
    },
    {
      "cell_type": "code",
      "execution_count": null,
      "metadata": {
        "id": "YpYTj7L0_ELs",
        "colab": {
          "base_uri": "https://localhost:8080/"
        },
        "outputId": "2b79d5a6-616e-4ad1-f6f7-3b9bbfcece94"
      },
      "outputs": [
        {
          "output_type": "stream",
          "name": "stdout",
          "text": [
            "['G1', 'B1', 'R1', 'Y1', 'G2', 'B2', 'R2', 'Y2', 'G3', 'B3', 'R3', 'Y3', 'G4', 'B4', 'R4', 'Y4']\n",
            "[1, 2, 4, 8, 16, 32, 64, 128, 256, 512, 1024, 2048, 4096, 8192, 16384, 32768]\n"
          ]
        }
      ],
      "source": [
        "from itertools import product\n",
        "letters = \"GBRY\"\n",
        "nums = \"1234\"\n",
        "levels = [ch + num for num, ch in product(nums, letters)]\n",
        "print(levels)\n",
        "level_codes = [2 ** i for i in range(len(levels))]\n",
        "print(level_codes)"
      ]
    },
    {
      "cell_type": "code",
      "execution_count": null,
      "metadata": {
        "id": "d_BMLagn_ELs"
      },
      "outputs": [],
      "source": [
        "level2code = {i: j for i, j in zip(levels, level_codes)}\n",
        "code2level = {j: i for i, j in zip(levels, level_codes)}"
      ]
    },
    {
      "cell_type": "code",
      "source": [
        "code2level"
      ],
      "metadata": {
        "colab": {
          "base_uri": "https://localhost:8080/"
        },
        "id": "-8k2Dd8spYGk",
        "outputId": "d46d153e-1ead-4cfb-8316-804414c32200"
      },
      "execution_count": null,
      "outputs": [
        {
          "output_type": "execute_result",
          "data": {
            "text/plain": [
              "{1: 'G1',\n",
              " 2: 'B1',\n",
              " 4: 'R1',\n",
              " 8: 'Y1',\n",
              " 16: 'G2',\n",
              " 32: 'B2',\n",
              " 64: 'R2',\n",
              " 128: 'Y2',\n",
              " 256: 'G3',\n",
              " 512: 'B3',\n",
              " 1024: 'R3',\n",
              " 2048: 'Y3',\n",
              " 4096: 'G4',\n",
              " 8192: 'B4',\n",
              " 16384: 'R4',\n",
              " 32768: 'Y4'}"
            ]
          },
          "metadata": {},
          "execution_count": 17
        }
      ]
    },
    {
      "cell_type": "markdown",
      "metadata": {
        "id": "CDzWMCHw_ELt"
      },
      "source": [
        "Хак для определения кодировки:"
      ]
    },
    {
      "cell_type": "code",
      "execution_count": null,
      "metadata": {
        "id": "xrsEBbe3_ELt"
      },
      "outputs": [],
      "source": [
        "def detect_encoding(file_path):\n",
        "    encoding = \"utf-8\"\n",
        "    try:\n",
        "        l = open(file_path, 'r', encoding=\"utf-8\").read()\n",
        "        if l.startswith(\"\\ufeff\"):  # т.н. byte order mark\n",
        "            encoding = \"utf-8-sig\"\n",
        "    except UnicodeDecodeError:\n",
        "        try:\n",
        "            open(file_path, 'r', encoding=\"utf-16\").read()\n",
        "            encoding = \"utf-16\"\n",
        "        except UnicodeError:\n",
        "            encoding = \"cp1251\"\n",
        "    return encoding"
      ]
    },
    {
      "cell_type": "markdown",
      "metadata": {
        "id": "kqDVd6jg_ELt"
      },
      "source": [
        "(в общем случае это не работает, например:"
      ]
    },
    {
      "cell_type": "code",
      "execution_count": null,
      "metadata": {
        "id": "EA3aN6IO_ELt"
      },
      "outputs": [],
      "source": [
        "with open(\"lol.txt\", \"w\", encoding=\"cp1251\") as f:\n",
        "    f.write(\"Пё\")"
      ]
    },
    {
      "cell_type": "code",
      "execution_count": null,
      "metadata": {
        "id": "92I2YwY1_ELt",
        "colab": {
          "base_uri": "https://localhost:8080/"
        },
        "outputId": "fa637fca-88e1-432c-b3cf-dde7fd4f5fa5"
      },
      "outputs": [
        {
          "output_type": "stream",
          "name": "stdout",
          "text": [
            "ϸ\n"
          ]
        }
      ],
      "source": [
        "with open(\"lol.txt\", \"r\", encoding=\"utf-8\") as f:\n",
        "    print(f.read())  # Greek Capital Letter Sho ???"
      ]
    },
    {
      "cell_type": "markdown",
      "metadata": {
        "id": "J8HEMkjP_ELt"
      },
      "source": [
        ")"
      ]
    },
    {
      "cell_type": "markdown",
      "metadata": {
        "id": "2leoTi0u_ELu"
      },
      "source": [
        "Задания для выполнения в классе:\n",
        "\n",
        "1. Напишите функцию, которая принимает на вход имя файла .seg и возвращает словарь, который содержит всю информацию из секции ```[PARAMETERS]```. Не забудьте преобразовать данные в целочисленный тип!  \n",
        "Пример словаря:"
      ]
    },
    {
      "cell_type": "code",
      "execution_count": null,
      "metadata": {
        "id": "y5_O94Dd_ELu"
      },
      "outputs": [],
      "source": [
        "{\n",
        "    \"SAMPLING_FREQ\": 22050,\n",
        "    \"BYTE_PER_SAMPLE\": 2,\n",
        "    \"CODE\": 0,\n",
        "    \"N_CHANNEL\": 1,\n",
        "    \"N_LABEL\": 13\n",
        "}"
      ]
    },
    {
      "cell_type": "code",
      "source": [
        "def read_seg(filename: str):\n",
        "  with open(filename, encoding=detect_encoding(filename)) as f:\n",
        "    lines = [line.strip() for line in f.readlines()]\n",
        "\n",
        "    params_start = lines.index(\"[PARAMETERS]\") + 1\n",
        "    labels_start = lines.index(\"[LABELS]\") + 1\n",
        "\n",
        "    params_lines = lines[params_start : labels_start - 1]\n",
        "    params = {}\n",
        "    for line in params_lines:\n",
        "      key, value = line.split(\"=\")\n",
        "      params[key] = int(value)\n",
        "\n",
        "    label_lines = lines[labels_start:]\n",
        "    labels = []\n",
        "    for line in label_lines:\n",
        "      if line.count(\",\") < 2:\n",
        "        break\n",
        "      position, level, name = line.split(\",\")\n",
        "      label = {\n",
        "          \"position\": int(position) // params[\"BYTE_PER_SAMPLE\"] // params[\"N_CHANNEL\"],\n",
        "          \"level\": code2level[int(level)],\n",
        "          \"name\": name\n",
        "      }\n",
        "      labels.append(label)\n",
        "  return params, labels"
      ],
      "metadata": {
        "id": "xfYCpMlakj8s"
      },
      "execution_count": null,
      "outputs": []
    },
    {
      "cell_type": "code",
      "source": [
        "params, labels = read_seg(\"/content/drive/MyDrive/cta/cta0001.seg_B1\")\n",
        "labels"
      ],
      "metadata": {
        "colab": {
          "base_uri": "https://localhost:8080/"
        },
        "id": "kzCrCwARmqAd",
        "outputId": "649ecb85-6528-4ef1-fe7d-bfa2ada6332a"
      },
      "execution_count": null,
      "outputs": [
        {
          "output_type": "execute_result",
          "data": {
            "text/plain": [
              "[{'position': 0, 'level': 'B1', 'name': 'j'},\n",
              " {'position': 4246, 'level': 'B1', 'name': 'u0'},\n",
              " {'position': 6354, 'level': 'B1', 'name': \"r'\"},\n",
              " {'position': 6854, 'level': 'B1', 'name': 'i4'},\n",
              " {'position': 9090, 'level': 'B1', 'name': 't'},\n",
              " {'position': 12452, 'level': 'B1', 'name': \"r'\"},\n",
              " {'position': 12970, 'level': 'B1', 'name': 'i0'},\n",
              " {'position': 15772, 'level': 'B1', 'name': 'f'},\n",
              " {'position': 18403, 'level': 'B1', 'name': 'a4'},\n",
              " {'position': 19302, 'level': 'B1', 'name': 'n'},\n",
              " {'position': 20809, 'level': 'B1', 'name': 'a4'},\n",
              " {'position': 22254, 'level': 'B1', 'name': 'f'},\n",
              " {'position': 27331, 'level': 'B1', 'name': ''}]"
            ]
          },
          "metadata": {},
          "execution_count": 27
        }
      ]
    },
    {
      "cell_type": "markdown",
      "metadata": {
        "id": "WxLybK9E_ELu"
      },
      "source": [
        "2. Расширьте функцию так, чтобы она возвращала ещё и список меток. Сделайте каждую метку словарём с тремя полями: позиция **в отсчётах**, уровень **в текстовом представлении**, имя метки (строка).  \n",
        "Как перевести из номера байта в номер отсчёта? На что нужно разделить?  \n",
        "Пример списка меток:"
      ]
    },
    {
      "cell_type": "code",
      "execution_count": null,
      "metadata": {
        "id": "wwUfD-KB_ELu"
      },
      "outputs": [],
      "source": [
        "{\"position\": 0, \"level\": \"B2\", \"name\": \"j\"}"
      ]
    },
    {
      "cell_type": "markdown",
      "metadata": {
        "id": "SQ6NK36y_ELu"
      },
      "source": [
        "3. Выведите на экран все интервалы из файла .seg: попарно напечатайте первую и вторую метку, вторую и третью, третью и четвёртую, ..., предпоследнюю и последнюю."
      ]
    },
    {
      "cell_type": "code",
      "source": [
        "def print_label_pairs(filename):\n",
        "  params, labels = read_seg(filename)\n",
        "  for start, end in zip(labels, labels[1:]):\n",
        "    print(start[\"name\"], start[\"position\"], end[\"position\"])"
      ],
      "metadata": {
        "id": "1EfTKsSrr4je"
      },
      "execution_count": null,
      "outputs": []
    },
    {
      "cell_type": "code",
      "source": [
        "print_label_pairs(\"/content/drive/MyDrive/cta/cta0001.seg_B1\")"
      ],
      "metadata": {
        "colab": {
          "base_uri": "https://localhost:8080/"
        },
        "id": "TW9ZwaoKsW8H",
        "outputId": "a06e4001-056c-42de-b33e-0bf489a63772"
      },
      "execution_count": null,
      "outputs": [
        {
          "output_type": "stream",
          "name": "stdout",
          "text": [
            "j 0 4246\n",
            "u0 4246 6354\n",
            "r' 6354 6854\n",
            "i4 6854 9090\n",
            "t 9090 12452\n",
            "r' 12452 12970\n",
            "i0 12970 15772\n",
            "f 15772 18403\n",
            "a4 18403 19302\n",
            "n 19302 20809\n",
            "a4 20809 22254\n",
            "f 22254 27331\n"
          ]
        }
      ]
    },
    {
      "cell_type": "markdown",
      "metadata": {
        "id": "fZfVVkRl_ELu"
      },
      "source": [
        "4. Напишите функцию, которая принимает на вход словарь с параметрами и список меток и записывает файл .seg"
      ]
    },
    {
      "cell_type": "code",
      "source": [
        "def write_seg(filename: str, params: dict, labels: list):\n",
        "  params_defaults = {\n",
        "    \"SAMPLING_FREQ\": 44100,\n",
        "    \"BYTE_PER_SAMPLE\": 2,\n",
        "    \"CODE\": 0,\n",
        "    \"N_CHANNEL\": 1,\n",
        "    \"N_LABEL\": 0\n",
        "  }\n",
        "  params_defaults.update(params)\n",
        "  params_defaults[\"N_LABEL\"] = len(labels)\n",
        "  with open(filename, \"w\", encoding=\"utf-8\") as f:\n",
        "    f.write(\"[PARAMETERS]\\n\")\n",
        "    for key in params_defaults.keys():\n",
        "      f.write(f\"{key}={params_defaults[key]}\\n\")\n",
        "    f.write(\"[LABELS]\\n\")\n",
        "    for label in labels:\n",
        "      f.write(str(label[\"position\"] * params_defaults[\"BYTE_PER_SAMPLE\"] * params_defaults[\"N_CHANNEL\"]))\n",
        "      f.write(\",\")\n",
        "      f.write(str(level2code[label[\"level\"]]))\n",
        "      f.write(\",\")\n",
        "      f.write(label[\"name\"])\n",
        "      f.write(\"\\n\")"
      ],
      "metadata": {
        "id": "MCQi4kIms2H4"
      },
      "execution_count": null,
      "outputs": []
    },
    {
      "cell_type": "code",
      "source": [
        "params = {\n",
        "    \"SAMPLING_FREQ\": 22050,\n",
        "    \"BYTE_PER_SAMPLE\": 2,\n",
        "    \"CODE\": 0,\n",
        "    \"N_CHANNEL\": 1,\n",
        "    \"N_LABEL\": 0\n",
        "  }\n",
        "labels = [{\"position\": 0, \"level\": \"G1\", \"name\": \"1243\"}, {\"position\": 100, \"level\": \"G1\", \"name\": \"7876\"}]\n",
        "write_seg(\"12345.seg\", params, labels)"
      ],
      "metadata": {
        "id": "QMfDMhchwOCA"
      },
      "execution_count": null,
      "outputs": []
    },
    {
      "cell_type": "markdown",
      "metadata": {
        "id": "sM1nsgOK_ELu"
      },
      "source": [
        "5. Напишите функцию, которая принимает на вход два имени файлов ```.seg```, рассматривает каждую пару меток в первом файле, регистрирует, какие метки из второго файла находятся между ними и записывает текстовый файл в следующем формате:\n",
        "```\n",
        "<время метки1_1 в секундах> <время метки1_2 в секундах> <имя метки1_1> <имя метки2_1> <имя метки2_2> ...\n",
        "```"
      ]
    },
    {
      "cell_type": "markdown",
      "metadata": {
        "id": "JtVPNodc_ELu"
      },
      "source": [
        "Например:\n",
        "```\n",
        "0.0 0.412 юрий j u0 r' i4\n",
        "0.412 1.24 трифонов t r' i0 f a4 n a4 f\n",
        "```"
      ]
    },
    {
      "cell_type": "code",
      "source": [
        "def make_textfile_with_labels(fn1: str, fn2: str, filename):\n",
        "  params1, labels1 = read_seg(fn1)\n",
        "  params2, labels2 = read_seg(fn2)\n",
        "  with open(filename, \"w\", encoding=\"utf-8\") as f:\n",
        "    for start, end in zip(labels1, labels1[1:]):\n",
        "      new_string = \"\"\n",
        "      for label in labels2:\n",
        "        if start[\"position\"] <= label[\"position\"] < end[\"position\"]:\n",
        "          new_string += label[\"name\"] + \" \"\n",
        "      st_time = round(start[\"position\"] / params1[\"SAMPLING_FREQ\"], 3)\n",
        "      end_time = round(end[\"position\"] / params1[\"SAMPLING_FREQ\"], 3)\n",
        "      f.write(f\"{st_time} {end_time} {start['name']} {new_string}\\n\")"
      ],
      "metadata": {
        "id": "lhwqkFVqxk_q"
      },
      "execution_count": null,
      "outputs": []
    },
    {
      "cell_type": "code",
      "source": [
        "make_textfile_with_labels(\"/content/drive/MyDrive/cta/cta0001.seg_Y1\", \"/content/drive/MyDrive/cta/cta0001.seg_B1\", \"new_text_file.txt\")"
      ],
      "metadata": {
        "id": "cHjuW7rY0ejP"
      },
      "execution_count": null,
      "outputs": []
    },
    {
      "cell_type": "markdown",
      "metadata": {
        "id": "eTWbYyUM_ELu"
      },
      "source": [
        "Домашнее задание: напишите программу, которая обрабатывает файл .seg_B1 (с границами звуков) и генерирует параллельный ему файл .seg_Y3, содержащий границы открытых слогов (по Бондарко)\n",
        "\n",
        "Должно получиться так:\n",
        "\n",
        "<img src=\"https://pkholyavin.github.io/year4programming/syllables_result_example.png\" width=\"1000\">"
      ]
    },
    {
      "cell_type": "markdown",
      "source": [],
      "metadata": {
        "id": "ga7MMeI00wtT"
      }
    }
  ],
  "metadata": {
    "kernelspec": {
      "display_name": "Python 3",
      "language": "python",
      "name": "python3"
    },
    "language_info": {
      "codemirror_mode": {
        "name": "ipython",
        "version": 3
      },
      "file_extension": ".py",
      "mimetype": "text/x-python",
      "name": "python",
      "nbconvert_exporter": "python",
      "pygments_lexer": "ipython3",
      "version": "3.9.0"
    },
    "orig_nbformat": 4,
    "colab": {
      "provenance": []
    }
  },
  "nbformat": 4,
  "nbformat_minor": 0
}