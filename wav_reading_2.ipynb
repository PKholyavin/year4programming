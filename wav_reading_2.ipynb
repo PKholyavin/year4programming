{
 "cells": [
  {
   "cell_type": "code",
   "execution_count": null,
   "metadata": {},
   "outputs": [],
   "source": [
    "!wget https://pkholyavin.github.io/year4programming/cta0001.wav\n",
    "!wget https://pkholyavin.github.io/year4programming/cta0001_stereo.wav\n",
    "!wget https://pkholyavin.github.io/year4programming/cta0001.sbl"
   ]
  },
  {
   "attachments": {},
   "cell_type": "markdown",
   "metadata": {},
   "source": [
    "Модуль wave\n",
    "\n",
    "1. Чтение"
   ]
  },
  {
   "cell_type": "code",
   "execution_count": null,
   "metadata": {},
   "outputs": [],
   "source": [
    "import wave\n",
    "import struct\n",
    "\n",
    "f = wave.open(\"cta0001.wav\")\n",
    "# f = wave.open(\"cta0001_stereo.wav\")\n",
    "\n",
    "num_samples = f.getnframes()\n",
    "print(num_samples)\n",
    "samplerate = f.getframerate()\n",
    "sampwidth = f.getsampwidth()\n",
    "num_channels = f.getnchannels()\n",
    "\n",
    "sampwidth_to_char = {1: \"c\", 2: \"h\", 4: \"i\"}  # на практике обычно 2 байта на отсчёт\n",
    "# полную таблицу соответствий см. здесь: https://docs.python.org/3/library/struct.html#format-characters\n",
    "fmt = str(num_samples * num_channels) + sampwidth_to_char[sampwidth]\n",
    "\n",
    "signal = struct.unpack(fmt, f.readframes(num_samples * num_channels))"
   ]
  },
  {
   "cell_type": "code",
   "execution_count": null,
   "metadata": {},
   "outputs": [],
   "source": [
    "# stereo file\n",
    "left = signal[::2]\n",
    "right = signal[1::2]\n",
    "print(left == right)  # данный файл я создал так, чтобы левый и правый канал были абсолютно одинаковые\n",
    "# как видно, это правда"
   ]
  },
  {
   "cell_type": "code",
   "execution_count": null,
   "metadata": {},
   "outputs": [],
   "source": [
    "import matplotlib.pyplot as plt\n",
    "plt.plot(signal)\n",
    "plt.show()"
   ]
  },
  {
   "cell_type": "markdown",
   "metadata": {},
   "source": [
    "Дополнительно: чтение 24-битных файлов"
   ]
  },
  {
   "cell_type": "code",
   "execution_count": null,
   "metadata": {},
   "outputs": [],
   "source": [
    "!wget https://pkholyavin.github.io/mastersprogramming/24bit.wav"
   ]
  },
  {
   "cell_type": "code",
   "execution_count": null,
   "metadata": {},
   "outputs": [],
   "source": [
    "f = wave.open(\"24bit.wav\")\n",
    "\n",
    "num_samples = f.getnframes()\n",
    "samplerate = f.getframerate()\n",
    "sampwidth = f.getsampwidth() # 3\n",
    "num_channels = f.getnchannels()\n",
    "\n",
    "data = f.readframes(num_samples * num_channels)\n",
    "data = b''.join(b''.join((b'\\x00', data[i:i+3])) for i in range(0, len(data), 3))\n",
    "fmt = \"i\"\n",
    "fmt = str(num_samples * num_channels) + fmt\n",
    "\n",
    "signal = struct.unpack(fmt, data)\n",
    "signal = [i >> 8 for i in signal]"
   ]
  },
  {
   "cell_type": "code",
   "execution_count": null,
   "metadata": {},
   "outputs": [],
   "source": [
    "plt.plot(signal)\n",
    "plt.show()"
   ]
  },
  {
   "cell_type": "markdown",
   "metadata": {},
   "source": [
    "В целом, если ваши файлы в каком-то малораспространённом формате, лучше сначала обработать их внешним инструментом и привести к нормальному виду. Это следует делать с осторожностью, чтобы случайно не внести искажения в данные.\n",
    "\n",
    "https://ffmpeg.org/"
   ]
  },
  {
   "cell_type": "markdown",
   "metadata": {},
   "source": [
    "2. Запись"
   ]
  },
  {
   "cell_type": "code",
   "execution_count": 4,
   "metadata": {},
   "outputs": [],
   "source": [
    "from math import sin\n",
    "\n",
    "samplerate = 22050\n",
    "sampwidth = 2\n",
    "num_channels = 1\n",
    "num_samples = samplerate * 2\n",
    "sampwidth_to_char = {1: \"c\", 2: \"h\", 4: \"i\"}\n",
    "fmt = str(num_samples) + sampwidth_to_char[sampwidth]\n",
    "\n",
    "ampl = 2 ** 14\n",
    "sine = [int(ampl * sin(x / 20)) for x in range(num_samples)]\n",
    "signal = struct.pack(fmt, *sine)\n",
    "\n",
    "f = wave.open(\"output.wav\", \"wb\")  # открываем на запись (w) в бинарном режиме (b)\n",
    "f.setnchannels(num_channels)\n",
    "f.setsampwidth(sampwidth)\n",
    "f.setframerate(samplerate)\n",
    "f.writeframes(signal)\n",
    "f.close()"
   ]
  },
  {
   "attachments": {},
   "cell_type": "markdown",
   "metadata": {},
   "source": [
    "3. Файлы без заголовка (.sbl)"
   ]
  },
  {
   "cell_type": "code",
   "execution_count": null,
   "metadata": {},
   "outputs": [],
   "source": [
    "samplerate = 22050\n",
    "sampwidth = 2\n",
    "num_channels = 1\n",
    "sampwidth_to_char = {1: \"c\", 2: \"h\", 4: \"i\"}\n",
    "\n",
    "with open(\"cta0001.sbl\", \"rb\") as f:\n",
    "    raw_signal = f.read()\n",
    "\n",
    "num_samples = len(raw_signal) // sampwidth\n",
    "fmt = str(num_samples) + sampwidth_to_char[sampwidth]\n",
    "signal = struct.unpack(fmt, raw_signal)"
   ]
  },
  {
   "cell_type": "code",
   "execution_count": null,
   "metadata": {},
   "outputs": [],
   "source": [
    "import matplotlib.pyplot as plt\n",
    "plt.plot(signal)\n",
    "plt.show()"
   ]
  },
  {
   "attachments": {},
   "cell_type": "markdown",
   "metadata": {},
   "source": [
    "Модуль scipy.io.wavfile\n",
    "1. Чтение"
   ]
  },
  {
   "cell_type": "code",
   "execution_count": null,
   "metadata": {},
   "outputs": [],
   "source": [
    "import scipy.io.wavfile as wav\n",
    "samplerate, signal = wav.read(\"cta0001.wav\")\n",
    "# samplerate, signal = wav.read(\"cta0001_stereo.wav\")\n",
    "print(signal.shape)"
   ]
  },
  {
   "cell_type": "code",
   "execution_count": null,
   "metadata": {},
   "outputs": [],
   "source": [
    "plt.plot(signal)\n",
    "plt.show()"
   ]
  },
  {
   "attachments": {},
   "cell_type": "markdown",
   "metadata": {},
   "source": [
    "2. Запись"
   ]
  },
  {
   "cell_type": "code",
   "execution_count": 7,
   "metadata": {},
   "outputs": [],
   "source": [
    "import numpy as np\n",
    "\n",
    "samplerate = 22050\n",
    "num_samples = samplerate * 2\n",
    "\n",
    "ampl = 2 ** 14\n",
    "sine = np.array([int(ampl * sin(x / 20)) for x in range(num_samples)], dtype=np.int16)\n",
    "\n",
    "wav.write(\"output2.wav\", samplerate, sine)"
   ]
  },
  {
   "attachments": {},
   "cell_type": "markdown",
   "metadata": {},
   "source": [
    "Модуль wavio"
   ]
  },
  {
   "cell_type": "code",
   "execution_count": null,
   "metadata": {},
   "outputs": [],
   "source": [
    "!pip install wavio"
   ]
  },
  {
   "attachments": {},
   "cell_type": "markdown",
   "metadata": {},
   "source": [
    "1. Чтение"
   ]
  },
  {
   "cell_type": "code",
   "execution_count": null,
   "metadata": {},
   "outputs": [],
   "source": [
    "import wavio\n",
    "data = wavio.read(\"cta0001.wav\")\n",
    "\n",
    "signal, samplerate, sampwidth = data.data, data.rate, data.sampwidth"
   ]
  },
  {
   "attachments": {},
   "cell_type": "markdown",
   "metadata": {},
   "source": [
    "2. Запись"
   ]
  },
  {
   "cell_type": "code",
   "execution_count": null,
   "metadata": {},
   "outputs": [],
   "source": [
    "samplerate = 22050\n",
    "num_samples = samplerate * 2\n",
    "\n",
    "ampl = 2 ** 14\n",
    "sine = np.array([int(ampl * sin(x / 20)) for x in range(num_samples)], dtype=np.int16)\n",
    "\n",
    "wavio.write(\"output3.wav\", sine, samplerate)\n",
    "# wavio.write(\"output3.wav\", sine, samplerate, sampwidth=2)"
   ]
  },
  {
   "cell_type": "markdown",
   "metadata": {},
   "source": [
    "Модуль librosa"
   ]
  },
  {
   "cell_type": "code",
   "execution_count": 1,
   "metadata": {},
   "outputs": [],
   "source": [
    "import librosa"
   ]
  },
  {
   "cell_type": "markdown",
   "metadata": {},
   "source": [
    "1. Чтение"
   ]
  },
  {
   "cell_type": "code",
   "execution_count": null,
   "metadata": {},
   "outputs": [],
   "source": [
    "data, samplerate = librosa.load(\"cta0001.wav\", sr=None)  # так сохраняем исходную частоту дискретизации\n",
    "print(samplerate)"
   ]
  },
  {
   "cell_type": "markdown",
   "metadata": {},
   "source": [
    "Амплитуды в сигнале при этом нормализуются (приводятся в диапазон от -1 до 1 путём деления на максимально возможное значение)!"
   ]
  },
  {
   "cell_type": "code",
   "execution_count": null,
   "metadata": {},
   "outputs": [],
   "source": [
    "plt.plot(data)\n",
    "plt.show()"
   ]
  },
  {
   "cell_type": "code",
   "execution_count": null,
   "metadata": {},
   "outputs": [],
   "source": [
    "data, samplerate = librosa.load(\"cta0001.wav\")  # по умолчанию частота дискретизации приводится к 22050\n",
    "print(samplerate)"
   ]
  },
  {
   "cell_type": "code",
   "execution_count": null,
   "metadata": {},
   "outputs": [],
   "source": [
    "data, samplerate = librosa.load(\"cta0001.wav\", sr=44100)  # но можем задать какую угодно\n",
    "print(samplerate)"
   ]
  },
  {
   "cell_type": "markdown",
   "metadata": {},
   "source": [
    "Работа с массивами numpy (которые возвращают scipy и wavio)"
   ]
  },
  {
   "cell_type": "code",
   "execution_count": null,
   "metadata": {},
   "outputs": [],
   "source": [
    "new_array = np.asarray([1, 2, 3, 4, 5], dtype=np.int16) # используем int16 для работы с 16-битными wav-файлами\n",
    "print(new_array)\n",
    "print(new_array.shape)"
   ]
  },
  {
   "cell_type": "markdown",
   "metadata": {},
   "source": [
    "Обратите внимание, что у numpy-массива единый тип для всех его элементов!\n",
    "\n",
    "Типы numpy более дифференцированы, чем базовые типы Python, поэтому будьте внимательны!"
   ]
  },
  {
   "cell_type": "code",
   "execution_count": null,
   "metadata": {},
   "outputs": [],
   "source": [
    "new_2d_array = np.asarray([[1, 2], [3, 4], [5, 6], [7, 8], [9, 10]], dtype=np.int16) # так должны выглядеть массивы, содержащие данные из стереофайлов\n",
    "print(new_2d_array)\n",
    "print(new_2d_array.shape)"
   ]
  },
  {
   "cell_type": "markdown",
   "metadata": {},
   "source": [
    "Сделаем из двух одномерных массивов двумерный:"
   ]
  },
  {
   "cell_type": "code",
   "execution_count": null,
   "metadata": {},
   "outputs": [],
   "source": [
    "array_2d = np.asarray((new_array, new_array), dtype=np.int16).T # T - это транспонирование\n",
    "print(array_2d)\n",
    "print(array_2d.shape)"
   ]
  },
  {
   "cell_type": "code",
   "execution_count": null,
   "metadata": {},
   "outputs": [],
   "source": [
    "zeros_array = np.zeros(5, dtype=np.int16) # массив, заполненный нулями\n",
    "print(zeros_array.shape)"
   ]
  },
  {
   "cell_type": "code",
   "execution_count": null,
   "metadata": {},
   "outputs": [],
   "source": [
    "zeros_array2d = np.zeros((5, 2), dtype=np.int16)\n",
    "print(zeros_array2d.shape)"
   ]
  },
  {
   "cell_type": "code",
   "execution_count": null,
   "metadata": {},
   "outputs": [],
   "source": [
    "print(new_array)\n",
    "new_array = np.flip(new_array)\n",
    "print(new_array)"
   ]
  },
  {
   "cell_type": "code",
   "execution_count": null,
   "metadata": {},
   "outputs": [],
   "source": [
    "big_array = np.concatenate((new_2d_array, zeros_array, new_2d_array))\n",
    "print(big_array)"
   ]
  },
  {
   "cell_type": "markdown",
   "metadata": {},
   "source": [
    "Будьте внимательны! При чтении моно-файлов scipy и librosa возвращают одномерный массив, wavio - двумерный, у которого второе измерение равно 1.  \n",
    "Конвертация из одной формы в другую:"
   ]
  },
  {
   "cell_type": "code",
   "execution_count": null,
   "metadata": {},
   "outputs": [],
   "source": [
    "array2d = np.asarray([[1], [2], [3], [4], [5]])\n",
    "print(array2d.shape)\n",
    "array1d = np.squeeze(array2d)\n",
    "print(array1d.shape)"
   ]
  },
  {
   "cell_type": "code",
   "execution_count": null,
   "metadata": {},
   "outputs": [],
   "source": [
    "array1d = np.asarray([1, 2, 3, 4, 5])\n",
    "print(array1d.shape)\n",
    "array2d = np.reshape(array1d, (-1, 1))\n",
    "print(array2d.shape)"
   ]
  },
  {
   "cell_type": "markdown",
   "metadata": {},
   "source": [
    "Задания для выполнения в классе:\n",
    "1. Написать программу, которая считывает .wav-файл, делит его на две половины и каждую записывает в отдельный файл. Оформите в виде функции, которая берёт на вход имя файла и возвращает имена получившихся файлов."
   ]
  },
  {
   "cell_type": "markdown",
   "metadata": {},
   "source": [
    "2. Написать программу, которая считывает .sbl-файл и сохраняет его как .wav. Оформите в виде функции, которая берёт на вход имя файла, частоту дискретизации, количество байт на отсчёт (по умолчанию - 2) и количество каналов (по умолчанию - 1) и возвращает имя получившегося файла."
   ]
  },
  {
   "attachments": {},
   "cell_type": "markdown",
   "metadata": {},
   "source": [
    "Домашнее задание:\n",
    "\n",
    "1. Считать моноканальный файл .wav\n",
    "2. Сделать из него стереофайл так: в правый канал положить отсчёты левого в обратном порядке.\n",
    "3. Вставить паузы 200 мс (или любое другое число, но явно прописанное в коде) на 1/4, 1/2 и 3/4 длительности.\n",
    "4. Записать в новый файл."
   ]
  }
 ],
 "metadata": {
  "kernelspec": {
   "display_name": "Python 3",
   "language": "python",
   "name": "python3"
  },
  "language_info": {
   "codemirror_mode": {
    "name": "ipython",
    "version": 3
   },
   "file_extension": ".py",
   "mimetype": "text/x-python",
   "name": "python",
   "nbconvert_exporter": "python",
   "pygments_lexer": "ipython3",
   "version": "3.9.0"
  },
  "orig_nbformat": 4,
  "vscode": {
   "interpreter": {
    "hash": "364dcd152da2692276e72902df2858159ccc300c15062838033fe03303e9b26c"
   }
  }
 },
 "nbformat": 4,
 "nbformat_minor": 2
}
