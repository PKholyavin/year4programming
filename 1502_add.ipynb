{
 "cells": [
  {
   "cell_type": "code",
   "execution_count": null,
   "metadata": {},
   "outputs": [],
   "source": [
    "filename = \"d07_s02_maps_tempo.txt\"\n",
    "\n",
    "with open(filename, \"r\") as file:\n",
    "  headers, *rows = file.readlines()\n",
    "\n",
    "headers = headers.strip().split(\"\\t\")\n",
    "data_list = []\n",
    "for row in rows:\n",
    "  cells = row.strip().split(\"\\t\")\n",
    "  data = dict(zip(headers, cells))\n",
    "  data_list.append(data)\n",
    "\n",
    "print(data_list)"
   ]
  },
  {
   "cell_type": "code",
   "execution_count": null,
   "metadata": {},
   "outputs": [],
   "source": [
    "import csv\n",
    "with open(filename) as file:\n",
    "    reader = csv.DictReader(file, delimiter=\"\\t\")\n",
    "    data_list_2 = list(reader)\n",
    "\n",
    "print(data_list_2)"
   ]
  },
  {
   "cell_type": "code",
   "execution_count": 10,
   "metadata": {},
   "outputs": [
    {
     "data": {
      "text/plain": [
       "True"
      ]
     },
     "execution_count": 10,
     "metadata": {},
     "output_type": "execute_result"
    }
   ],
   "source": [
    "data_list == data_list_2"
   ]
  }
 ],
 "metadata": {
  "kernelspec": {
   "display_name": "Python 3",
   "language": "python",
   "name": "python3"
  },
  "language_info": {
   "codemirror_mode": {
    "name": "ipython",
    "version": 3
   },
   "file_extension": ".py",
   "mimetype": "text/x-python",
   "name": "python",
   "nbconvert_exporter": "python",
   "pygments_lexer": "ipython3",
   "version": "3.9.0"
  },
  "orig_nbformat": 4,
  "vscode": {
   "interpreter": {
    "hash": "364dcd152da2692276e72902df2858159ccc300c15062838033fe03303e9b26c"
   }
  }
 },
 "nbformat": 4,
 "nbformat_minor": 2
}
