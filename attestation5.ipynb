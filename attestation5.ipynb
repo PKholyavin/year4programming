{
 "cells": [
  {
   "attachments": {},
   "cell_type": "markdown",
   "metadata": {},
   "source": [
    "Воспользуйтесь библиотекой pymorphy2, чтобы определить, является ли пара слов словосочетанием русского языка. Заранее составьте список пар частей речи, с которыми будете работать (необязательно покрывать все возможные комбинации)."
   ]
  }
 ],
 "metadata": {
  "language_info": {
   "name": "python"
  },
  "orig_nbformat": 4
 },
 "nbformat": 4,
 "nbformat_minor": 2
}
