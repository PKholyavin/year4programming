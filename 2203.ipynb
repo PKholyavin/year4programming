{
 "cells": [
  {
   "attachments": {},
   "cell_type": "markdown",
   "metadata": {},
   "source": [
    "### Стемминг"
   ]
  },
  {
   "cell_type": "code",
   "execution_count": null,
   "metadata": {},
   "outputs": [],
   "source": [
    "from nltk.stem import SnowballStemmer\n",
    "stemmer = SnowballStemmer(\"russian\")\n",
    "\n",
    "text = \"был тихий серый вечер дул ветер слабый и тёплый небо было покрыто тучами\"\n",
    "for word in text.split():\n",
    "    print(stemmer.stem(word))"
   ]
  },
  {
   "attachments": {},
   "cell_type": "markdown",
   "metadata": {},
   "source": [
    "### Проблемы стемминга:"
   ]
  },
  {
   "cell_type": "code",
   "execution_count": null,
   "metadata": {},
   "outputs": [],
   "source": [
    "# чередование в основах\n",
    "print(stemmer.stem(\"ветер\"))\n",
    "print(stemmer.stem(\"ветра\"))"
   ]
  },
  {
   "cell_type": "code",
   "execution_count": null,
   "metadata": {},
   "outputs": [],
   "source": [
    "# омонимия основ\n",
    "print(stemmer.stem(\"банком\"))\n",
    "print(stemmer.stem(\"банкой\"))"
   ]
  },
  {
   "cell_type": "code",
   "execution_count": null,
   "metadata": {},
   "outputs": [],
   "source": [
    "# супплетивизм\n",
    "print(stemmer.stem(\"человек\"))\n",
    "print(stemmer.stem(\"люди\"))"
   ]
  },
  {
   "attachments": {},
   "cell_type": "markdown",
   "metadata": {},
   "source": [
    "### Лемматизация"
   ]
  },
  {
   "cell_type": "code",
   "execution_count": null,
   "metadata": {},
   "outputs": [],
   "source": [
    "import pymorphy2 as pymorphy\n",
    "# import pymorphy3 as pymorphy\n",
    "morph = pymorphy.MorphAnalyzer()"
   ]
  },
  {
   "cell_type": "code",
   "execution_count": null,
   "metadata": {},
   "outputs": [],
   "source": [
    "for word in text.split():\n",
    "    print(morph.parse(word)[0].normal_form)"
   ]
  },
  {
   "attachments": {},
   "cell_type": "markdown",
   "metadata": {},
   "source": [
    "Проверим проблемные места:"
   ]
  },
  {
   "cell_type": "code",
   "execution_count": null,
   "metadata": {},
   "outputs": [],
   "source": [
    "print(morph.parse(\"ветер\")[0].normal_form)\n",
    "print(morph.parse(\"ветра\")[0].normal_form)"
   ]
  },
  {
   "cell_type": "code",
   "execution_count": null,
   "metadata": {},
   "outputs": [],
   "source": [
    "print(morph.parse(\"банком\")[0].normal_form)\n",
    "print(morph.parse(\"банкой\")[0].normal_form)"
   ]
  },
  {
   "cell_type": "code",
   "execution_count": null,
   "metadata": {},
   "outputs": [],
   "source": [
    "print(morph.parse(\"человек\")[0].normal_form)\n",
    "print(morph.parse(\"люди\")[0].normal_form)"
   ]
  },
  {
   "cell_type": "markdown",
   "metadata": {},
   "source": [
    "### Морфологический анализ"
   ]
  },
  {
   "cell_type": "markdown",
   "metadata": {},
   "source": [
    "https://pymorphy2.readthedocs.io/en/stable/user/grammemes.html\n",
    "\n",
    "В pymoprhy используются граммемы OpenCorpora с небольшими изменениями:\n",
    "\n",
    "https://opencorpora.org/dict.php?act=gram"
   ]
  },
  {
   "cell_type": "code",
   "execution_count": null,
   "metadata": {},
   "outputs": [],
   "source": [
    "for word in text.split():\n",
    "    print(morph.parse(word)[0])"
   ]
  },
  {
   "cell_type": "code",
   "execution_count": 17,
   "metadata": {},
   "outputs": [
    {
     "data": {
      "text/plain": [
       "[Parse(word='тихий', tag=OpencorporaTag('ADJF,Qual inan,masc,sing,accs'), normal_form='тихий', score=0.666666, methods_stack=((DictionaryAnalyzer(), 'тихий', 738, 4),)),\n",
       " Parse(word='тихий', tag=OpencorporaTag('ADJF,Qual masc,sing,nomn'), normal_form='тихий', score=0.333333, methods_stack=((DictionaryAnalyzer(), 'тихий', 738, 0),))]"
      ]
     },
     "execution_count": 17,
     "metadata": {},
     "output_type": "execute_result"
    }
   ],
   "source": [
    "parsres = morph.parse(\"тихий\")\n",
    "parsres"
   ]
  },
  {
   "cell_type": "code",
   "execution_count": 34,
   "metadata": {},
   "outputs": [
    {
     "data": {
      "text/plain": [
       "[Parse(word='курдячит', tag=OpencorporaTag('VERB,impf,intr sing,3per,pres,indc'), normal_form='курдячать', score=0.5384615384615384, methods_stack=((DictionaryAnalyzer(), 'ячит', 564, 5), (UnknownPrefixAnalyzer(score_multiplier=0.5), 'курд'))),\n",
       " Parse(word='курдячит', tag=OpencorporaTag('VERB,impf,intr sing,3per,pres,indc'), normal_form='курдячить', score=0.23076923076923075, methods_stack=((FakeDictionary(), 'курдячит', 371, 5), (KnownSuffixAnalyzer(min_word_length=4, score_multiplier=0.5), 'ячит'))),\n",
       " Parse(word='курдячит', tag=OpencorporaTag('VERB,perf,intr sing,3per,futr,indc'), normal_form='курдячить', score=0.23076923076923075, methods_stack=((FakeDictionary(), 'курдячит', 1551, 9), (KnownSuffixAnalyzer(min_word_length=4, score_multiplier=0.5), 'ячит')))]"
      ]
     },
     "execution_count": 34,
     "metadata": {},
     "output_type": "execute_result"
    }
   ],
   "source": [
    "parsres = morph.parse(\"курдячит\")\n",
    "parsres"
   ]
  },
  {
   "cell_type": "code",
   "execution_count": 20,
   "metadata": {},
   "outputs": [
    {
     "data": {
      "text/plain": [
       "['count',\n",
       " 'index',\n",
       " 'inflect',\n",
       " 'is_known',\n",
       " 'lexeme',\n",
       " 'make_agree_with_number',\n",
       " 'methods_stack',\n",
       " 'normal_form',\n",
       " 'normalized',\n",
       " 'score',\n",
       " 'tag',\n",
       " 'word']"
      ]
     },
     "execution_count": 20,
     "metadata": {},
     "output_type": "execute_result"
    }
   ],
   "source": [
    "[i for i in dir(parsres[0]) if not i.startswith(\"_\")]"
   ]
  },
  {
   "cell_type": "code",
   "execution_count": null,
   "metadata": {},
   "outputs": [],
   "source": [
    "parsres[0].lexeme"
   ]
  },
  {
   "cell_type": "code",
   "execution_count": 24,
   "metadata": {},
   "outputs": [
    {
     "data": {
      "text/plain": [
       "Parse(word='тихую', tag=OpencorporaTag('ADJF,Qual femn,sing,accs'), normal_form='тихий', score=1.0, methods_stack=((DictionaryAnalyzer(), 'тихую', 738, 10),))"
      ]
     },
     "execution_count": 24,
     "metadata": {},
     "output_type": "execute_result"
    }
   ],
   "source": [
    "parsres[0].inflect({\"femn\", \"accs\"})"
   ]
  },
  {
   "cell_type": "code",
   "execution_count": null,
   "metadata": {},
   "outputs": [
    {
     "name": "stdout",
     "output_type": "stream",
     "text": [
      "ADJF,Qual inan,masc,sing,accs\n"
     ]
    }
   ],
   "source": [
    "tag = morph.parse(\"тихий\")[0].tag\n",
    "print(tag)"
   ]
  },
  {
   "cell_type": "code",
   "execution_count": null,
   "metadata": {},
   "outputs": [],
   "source": [
    "dir(tag)"
   ]
  },
  {
   "cell_type": "code",
   "execution_count": null,
   "metadata": {},
   "outputs": [
    {
     "name": "stdout",
     "output_type": "stream",
     "text": [
      "ADJF sing accs masc\n"
     ]
    }
   ],
   "source": [
    "print(tag.POS, tag.number, tag.case, tag.gender)"
   ]
  },
  {
   "cell_type": "markdown",
   "metadata": {},
   "source": [
    "### Задание для выполнения в классе\n",
    "\n",
    "1. Взять любой текст, создать частотный словарь лексем\n",
    "\n",
    "2. Определить, сколько встретилось существительных каждого рода\n",
    "\n",
    "3. Создайте алфавитный список всех глаголов. Каждый глагол поставьте в форму первого лица, единственного числа и настоящего времени, если глагол несовершенного вида, и будущего, если он совершенного вида."
   ]
  },
  {
   "cell_type": "code",
   "execution_count": null,
   "metadata": {},
   "outputs": [],
   "source": []
  },
  {
   "attachments": {},
   "cell_type": "markdown",
   "metadata": {},
   "source": [
    "### Домашнее задание\n",
    "\n",
    "Сделать стеммер для кратких и полных прилагательных русского языка. Можно вдохновиться стеммером из nltk:\n",
    "\n",
    "https://www.nltk.org/_modules/nltk/stem/snowball.html#RussianStemmer\n",
    "\n",
    "http://snowball.tartarus.org/algorithms/russian/stemmer.html"
   ]
  }
 ],
 "metadata": {
  "kernelspec": {
   "display_name": "Python 3",
   "language": "python",
   "name": "python3"
  },
  "language_info": {
   "codemirror_mode": {
    "name": "ipython",
    "version": 3
   },
   "file_extension": ".py",
   "mimetype": "text/x-python",
   "name": "python",
   "nbconvert_exporter": "python",
   "pygments_lexer": "ipython3",
   "version": "3.13.1"
  },
  "orig_nbformat": 4
 },
 "nbformat": 4,
 "nbformat_minor": 2
}
