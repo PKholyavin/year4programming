{
 "cells": [
  {
   "cell_type": "code",
   "execution_count": 14,
   "metadata": {},
   "outputs": [],
   "source": [
    "import os\n",
    "for root, dirs, files in os.walk(\"c:\\\\users\\\\user\\\\documents\\\\cta_seg\"):\n",
    "    for file in files:\n",
    "        with open(os.path.join(root, file), \"r\", encoding=\"cp1251\") as f:\n",
    "            text = f.read()\n",
    "        with open(os.path.join(\"c:\\\\users\\\\user\\\\documents\\\\cta_seg_utf8\", file), \"w\", encoding=\"utf-8\") as f:\n",
    "            f.write(text)"
   ]
  },
  {
   "cell_type": "code",
   "execution_count": 12,
   "metadata": {},
   "outputs": [
    {
     "name": "stdout",
     "output_type": "stream",
     "text": [
      "d34_s07_maps.txt\n",
      "test.txt\n",
      "test_out.txt\n",
      "test_out_utf8.txt\n",
      "test_folder\\test1.txt\n",
      "test_folder\\test2.txt\n",
      "test_folder\\test3.txt\n"
     ]
    }
   ],
   "source": [
    "import glob\n",
    "for i in glob.glob(\"**/*.txt\", recursive=True):\n",
    "    print(i)"
   ]
  },
  {
   "cell_type": "code",
   "execution_count": 16,
   "metadata": {},
   "outputs": [
    {
     "data": {
      "text/plain": [
       "('a', 'c')"
      ]
     },
     "execution_count": 16,
     "metadata": {},
     "output_type": "execute_result"
    }
   ],
   "source": [
    "a = \"a,b,c\".split(\",\")\n",
    "a[0], a[2]"
   ]
  },
  {
   "cell_type": "markdown",
   "metadata": {},
   "source": [
    "Практическое задание:\n",
    "1. Обработать все файлы .seg_* в директории\n",
    "2. Извлечь информацию о звуках и словах\n",
    "3. Сопоставить каждому слову транскрипцию\n",
    "4. Занести информацию в таблицу:"
   ]
  },
  {
   "cell_type": "markdown",
   "metadata": {},
   "source": [
    "Слово | Сколько раз встретилось | Транскрипция 1 | Сколько раз встретилась | Транскрипция 2 | Сколько раз встретилась | ... "
   ]
  },
  {
   "cell_type": "markdown",
   "metadata": {},
   "source": [
    "5. Сортировать по колонке 2 по убыванию"
   ]
  }
 ],
 "metadata": {
  "kernelspec": {
   "display_name": "Python 3.10.7 64-bit",
   "language": "python",
   "name": "python3"
  },
  "language_info": {
   "codemirror_mode": {
    "name": "ipython",
    "version": 3
   },
   "file_extension": ".py",
   "mimetype": "text/x-python",
   "name": "python",
   "nbconvert_exporter": "python",
   "pygments_lexer": "ipython3",
   "version": "3.10.7"
  },
  "orig_nbformat": 4,
  "vscode": {
   "interpreter": {
    "hash": "afb734500600fd355917ca529030176ea0ca205570884b88f2f6f7d791fd3fbe"
   }
  }
 },
 "nbformat": 4,
 "nbformat_minor": 2
}
