{
 "cells": [
  {
   "cell_type": "code",
   "execution_count": null,
   "metadata": {},
   "outputs": [],
   "source": [
    "!pip install tgt"
   ]
  },
  {
   "attachments": {},
   "cell_type": "markdown",
   "metadata": {},
   "source": [
    "https://textgridtools.readthedocs.io/en/stable/api.html"
   ]
  },
  {
   "attachments": {},
   "cell_type": "markdown",
   "metadata": {},
   "source": [
    "Прочитаем TextGrid:"
   ]
  },
  {
   "cell_type": "code",
   "execution_count": 18,
   "metadata": {},
   "outputs": [
    {
     "data": {
      "text/plain": [
       "[IntervalTier(start_time=0.0, end_time=1.239501133786848, name=\"sounds\", objects=[Interval(0.0, 0.192562358276644, \"j\"), Interval(0.192562358276644, 0.28816326530612246, \"u0\"), Interval(0.28816326530612246, 0.3108390022675737, \"r'\"), Interval(0.3108390022675737, 0.4122448979591837, \"i4\"), Interval(0.4122448979591837, 0.5647165532879819, \"t\"), Interval(0.5647165532879819, 0.5882086167800453, \"r'\"), Interval(0.5882086167800453, 0.7152834467120182, \"i0\"), Interval(0.7152834467120182, 0.8346031746031746, \"f\"), Interval(0.8346031746031746, 0.8753741496598639, \"a4\"), Interval(0.8753741496598639, 0.943718820861678, \"n\"), Interval(0.943718820861678, 1.0092517006802721, \"a4\"), Interval(1.0092517006802721, 1.239501133786848, \"f\")]),\n",
       " IntervalTier(start_time=0.0, end_time=1.239501133786848, name=\"durs zscore\", objects=[Interval(0.0, 0.192562358276644, \"4.483\"), Interval(0.192562358276644, 0.28816326530612246, \"0.19\"), Interval(0.28816326530612246, 0.3108390022675737, \"-1.057\"), Interval(0.3108390022675737, 0.4122448979591837, \"1.64\"), Interval(0.4122448979591837, 0.5647165532879819, \"3.243\"), Interval(0.5647165532879819, 0.5882086167800453, \"-0.996\"), Interval(0.5882086167800453, 0.7152834467120182, \"1.528\"), Interval(0.7152834467120182, 0.8346031746031746, \"1.272\"), Interval(0.8346031746031746, 0.8753741496598639, \"-1.024\"), Interval(0.8753741496598639, 0.943718820861678, \"0.295\"), Interval(0.943718820861678, 1.0092517006802721, \"-0.41\"), Interval(1.0092517006802721, 1.239501133786848, \"4.764\")])]"
      ]
     },
     "execution_count": 18,
     "metadata": {},
     "output_type": "execute_result"
    }
   ],
   "source": [
    "import tgt\n",
    "\n",
    "grid = tgt.io.read_textgrid(\"cta0001.TextGrid\")\n",
    "grid.tiers"
   ]
  },
  {
   "attachments": {},
   "cell_type": "markdown",
   "metadata": {},
   "source": [
    "Получим названия всех уровней:"
   ]
  },
  {
   "cell_type": "code",
   "execution_count": 16,
   "metadata": {},
   "outputs": [
    {
     "data": {
      "text/plain": [
       "['new tier', 'new point tier']"
      ]
     },
     "execution_count": 16,
     "metadata": {},
     "output_type": "execute_result"
    }
   ],
   "source": [
    "grid.get_tier_names()"
   ]
  },
  {
   "attachments": {},
   "cell_type": "markdown",
   "metadata": {},
   "source": [
    "Получим уровень по названию:"
   ]
  },
  {
   "cell_type": "code",
   "execution_count": 19,
   "metadata": {},
   "outputs": [
    {
     "data": {
      "text/plain": [
       "IntervalTier(start_time=0.0, end_time=1.239501133786848, name=\"sounds\", objects=[Interval(0.0, 0.192562358276644, \"j\"), Interval(0.192562358276644, 0.28816326530612246, \"u0\"), Interval(0.28816326530612246, 0.3108390022675737, \"r'\"), Interval(0.3108390022675737, 0.4122448979591837, \"i4\"), Interval(0.4122448979591837, 0.5647165532879819, \"t\"), Interval(0.5647165532879819, 0.5882086167800453, \"r'\"), Interval(0.5882086167800453, 0.7152834467120182, \"i0\"), Interval(0.7152834467120182, 0.8346031746031746, \"f\"), Interval(0.8346031746031746, 0.8753741496598639, \"a4\"), Interval(0.8753741496598639, 0.943718820861678, \"n\"), Interval(0.943718820861678, 1.0092517006802721, \"a4\"), Interval(1.0092517006802721, 1.239501133786848, \"f\")])"
      ]
     },
     "execution_count": 19,
     "metadata": {},
     "output_type": "execute_result"
    }
   ],
   "source": [
    "grid.get_tier_by_name(\"sounds\")"
   ]
  },
  {
   "attachments": {},
   "cell_type": "markdown",
   "metadata": {},
   "source": [
    "Создадим пустой TextGrid:"
   ]
  },
  {
   "cell_type": "code",
   "execution_count": null,
   "metadata": {},
   "outputs": [],
   "source": [
    "grid = tgt.core.TextGrid()"
   ]
  },
  {
   "attachments": {},
   "cell_type": "markdown",
   "metadata": {},
   "source": [
    "Добавим новый IntervalTier:"
   ]
  },
  {
   "cell_type": "code",
   "execution_count": null,
   "metadata": {},
   "outputs": [],
   "source": [
    "new_tier = tgt.core.IntervalTier(name=\"new tier\")\n",
    "grid.add_tier(new_tier)\n",
    "new_tier.add_interval(tgt.core.Interval(0, 1.0, \"some text\"))\n",
    "new_tier"
   ]
  },
  {
   "attachments": {},
   "cell_type": "markdown",
   "metadata": {},
   "source": [
    "Добавим новый PointTier:"
   ]
  },
  {
   "cell_type": "code",
   "execution_count": null,
   "metadata": {},
   "outputs": [],
   "source": [
    "new_point_tier = tgt.core.PointTier(name=\"new point tier\")\n",
    "grid.add_tier(new_point_tier)\n",
    "new_point_tier.add_point(tgt.core.Point(0.5, \"some text\"))\n",
    "new_point_tier"
   ]
  },
  {
   "attachments": {},
   "cell_type": "markdown",
   "metadata": {},
   "source": [
    "Запишем в разных форматах:"
   ]
  },
  {
   "cell_type": "code",
   "execution_count": null,
   "metadata": {},
   "outputs": [],
   "source": [
    "tgt.io.write_to_file(grid, \"new_grid_short.TextGrid\", format=\"short\")\n",
    "tgt.io.write_to_file(grid, \"new_grid_long.TextGrid\", format=\"long\")"
   ]
  },
  {
   "attachments": {},
   "cell_type": "markdown",
   "metadata": {},
   "source": [
    "Задание: написать программу для конвертации TextGrid в .seg и наоборот."
   ]
  },
  {
   "cell_type": "markdown",
   "metadata": {},
   "source": [
    "<img src=\"https://pkholyavin.github.io/year4programming/result_example.png\" width=\"1000\">"
   ]
  }
 ],
 "metadata": {
  "kernelspec": {
   "display_name": "Python 3",
   "language": "python",
   "name": "python3"
  },
  "language_info": {
   "codemirror_mode": {
    "name": "ipython",
    "version": 3
   },
   "file_extension": ".py",
   "mimetype": "text/x-python",
   "name": "python",
   "nbconvert_exporter": "python",
   "pygments_lexer": "ipython3",
   "version": "3.9.0"
  },
  "orig_nbformat": 4
 },
 "nbformat": 4,
 "nbformat_minor": 2
}
